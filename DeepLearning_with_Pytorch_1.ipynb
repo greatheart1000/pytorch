{
  "nbformat": 4,
  "nbformat_minor": 0,
  "metadata": {
    "colab": {
      "name": "DeepLearning_with_Pytorch-1.ipynb",
      "provenance": [],
      "collapsed_sections": [],
      "authorship_tag": "ABX9TyPy8LZVfnY0ORc8luWDzG4W",
      "include_colab_link": true
    },
    "kernelspec": {
      "name": "python3",
      "display_name": "Python 3"
    },
    "language_info": {
      "name": "python"
    }
  },
  "cells": [
    {
      "cell_type": "markdown",
      "metadata": {
        "id": "view-in-github",
        "colab_type": "text"
      },
      "source": [
        "<a href=\"https://colab.research.google.com/github/vishalrk1/pytorch/blob/main/DeepLearning_with_Pytorch_1.ipynb\" target=\"_parent\"><img src=\"https://colab.research.google.com/assets/colab-badge.svg\" alt=\"Open In Colab\"/></a>"
      ]
    },
    {
      "cell_type": "markdown",
      "source": [
        "# Telling Dirds from airplanes"
      ],
      "metadata": {
        "id": "BYaUC69XKO-2"
      }
    },
    {
      "cell_type": "code",
      "execution_count": null,
      "metadata": {
        "id": "9k9Ibj8wJ6Lz"
      },
      "outputs": [],
      "source": [
        "import torch\n",
        "import torch.nn as nn\n",
        "import torch.optim as optim\n",
        "\n",
        "import torchvision\n",
        "import torch.nn.functional as F\n",
        "from torchvision import datasets, transforms\n",
        "from torch.utils.data import DataLoader, Dataset\n",
        "\n",
        "import numpy as np\n",
        "import pandas as pd\n",
        "import matplotlib.pyplot as plt\n"
      ]
    },
    {
      "cell_type": "code",
      "source": [
        "data_path = 'CIFAR10/'\n",
        "\n",
        "transform = transforms.Compose([\n",
        "    transforms.ToTensor(),\n",
        "    transforms.Normalize(mean=(0.4914, 0.4822, 0.4465), std=(0.2470, 0.2435, 0.2616))\n",
        "])\n",
        "\n",
        "train_data = datasets.CIFAR10(data_path, train=True, download=True, transform=transform)\n",
        "valid_data = datasets.CIFAR10(data_path, train=False, download=True, transform=transform)"
      ],
      "metadata": {
        "colab": {
          "base_uri": "https://localhost:8080/"
        },
        "id": "zDdmvzy2KNMI",
        "outputId": "bdbcc6e2-ca89-4483-b787-03586bbc517f"
      },
      "execution_count": null,
      "outputs": [
        {
          "output_type": "stream",
          "name": "stdout",
          "text": [
            "Files already downloaded and verified\n",
            "Files already downloaded and verified\n"
          ]
        }
      ]
    },
    {
      "cell_type": "code",
      "source": [
        "len(train_data)"
      ],
      "metadata": {
        "colab": {
          "base_uri": "https://localhost:8080/"
        },
        "id": "pgk5K3jXKqx8",
        "outputId": "911c2b16-1a60-4785-8815-a14cdda334aa"
      },
      "execution_count": null,
      "outputs": [
        {
          "output_type": "execute_result",
          "data": {
            "text/plain": [
              "50000"
            ]
          },
          "metadata": {},
          "execution_count": 24
        }
      ]
    },
    {
      "cell_type": "code",
      "source": [
        "class_names = train_data.classes\n",
        "class_len = len(class_names)"
      ],
      "metadata": {
        "id": "8NcO-jV2MNgW"
      },
      "execution_count": null,
      "outputs": []
    },
    {
      "cell_type": "code",
      "source": [
        "image, label = train_data[99]"
      ],
      "metadata": {
        "id": "LnZz3L0DLkY8"
      },
      "execution_count": null,
      "outputs": []
    },
    {
      "cell_type": "code",
      "source": [
        "image = image.permute((1, 2, 0))\n",
        "\n",
        "plt.imshow(image)\n",
        "plt.show()"
      ],
      "metadata": {
        "colab": {
          "base_uri": "https://localhost:8080/",
          "height": 284
        },
        "id": "Mlu_1LOxMX21",
        "outputId": "44b3eeea-dbcb-44b0-f340-8f94c5cf4fd4"
      },
      "execution_count": null,
      "outputs": [
        {
          "output_type": "stream",
          "name": "stderr",
          "text": [
            "Clipping input data to the valid range for imshow with RGB data ([0..1] for floats or [0..255] for integers).\n"
          ]
        },
        {
          "output_type": "display_data",
          "data": {
            "image/png": "[encoded data removed]",
            "text/plain": [
              "<Figure size 432x288 with 1 Axes>"
            ]
          },
          "metadata": {
            "needs_background": "light"
          }
        }
      ]
    },
    {
      "cell_type": "code",
      "source": [
        "imgs = torch.stack([img for img, _ in train_data], dim=3)\n",
        "imgs.shape"
      ],
      "metadata": {
        "colab": {
          "base_uri": "https://localhost:8080/"
        },
        "id": "E053pMApMk16",
        "outputId": "52720e8e-e6aa-4f4a-e86d-86c4a1f4be20"
      },
      "execution_count": null,
      "outputs": [
        {
          "output_type": "execute_result",
          "data": {
            "text/plain": [
              "torch.Size([3, 32, 32, 50000])"
            ]
          },
          "metadata": {},
          "execution_count": 21
        }
      ]
    },
    {
      "cell_type": "code",
      "source": [
        "imgs.view(3, -1).mean(dim=1)"
      ],
      "metadata": {
        "colab": {
          "base_uri": "https://localhost:8080/"
        },
        "id": "lywUxxXrQFpq",
        "outputId": "8eb9ff8d-d200-41fb-8ef7-c7ffaff42647"
      },
      "execution_count": null,
      "outputs": [
        {
          "output_type": "execute_result",
          "data": {
            "text/plain": [
              "tensor([0.4914, 0.4822, 0.4465])"
            ]
          },
          "metadata": {},
          "execution_count": 20
        }
      ]
    },
    {
      "cell_type": "code",
      "source": [
        "imgs.view(3, -1).std(dim=1)"
      ],
      "metadata": {
        "colab": {
          "base_uri": "https://localhost:8080/"
        },
        "id": "VCoEcSJVQSyD",
        "outputId": "d9a82494-047a-45fc-922c-38a8eeb9d683"
      },
      "execution_count": null,
      "outputs": [
        {
          "output_type": "execute_result",
          "data": {
            "text/plain": [
              "tensor([0.2470, 0.2435, 0.2616])"
            ]
          },
          "metadata": {},
          "execution_count": 22
        }
      ]
    },
    {
      "cell_type": "code",
      "source": [
        "class_names"
      ],
      "metadata": {
        "colab": {
          "base_uri": "https://localhost:8080/"
        },
        "id": "6fzb2LOhQ74j",
        "outputId": "5e83acc6-1dbc-4d10-c496-2885dea8662d"
      },
      "execution_count": null,
      "outputs": [
        {
          "output_type": "execute_result",
          "data": {
            "text/plain": [
              "['airplane',\n",
              " 'automobile',\n",
              " 'bird',\n",
              " 'cat',\n",
              " 'deer',\n",
              " 'dog',\n",
              " 'frog',\n",
              " 'horse',\n",
              " 'ship',\n",
              " 'truck']"
            ]
          },
          "metadata": {},
          "execution_count": 28
        }
      ]
    },
    {
      "cell_type": "code",
      "source": [
        "label_map = {0: 0, 2: 1}\n",
        "class_names = ['airplane', 'bird']\n",
        "\n",
        "train_dataset = [(img, label_map[label]) for img, label in train_data if label in [0, 2]]\n",
        "\n",
        "valid_dataset = [(img, label_map[label]) for img, label in valid_data if label in [0, 2]]"
      ],
      "metadata": {
        "id": "_L5_8GN4R46d"
      },
      "execution_count": null,
      "outputs": []
    },
    {
      "cell_type": "code",
      "source": [
        "len(train_dataset)"
      ],
      "metadata": {
        "colab": {
          "base_uri": "https://localhost:8080/"
        },
        "id": "42vZAwHpSbJq",
        "outputId": "971038ac-8a04-492e-a364-9c72fd2d972c"
      },
      "execution_count": null,
      "outputs": [
        {
          "output_type": "execute_result",
          "data": {
            "text/plain": [
              "10000"
            ]
          },
          "metadata": {},
          "execution_count": 30
        }
      ]
    },
    {
      "cell_type": "code",
      "source": [
        "32*32*3"
      ],
      "metadata": {
        "colab": {
          "base_uri": "https://localhost:8080/"
        },
        "id": "J9PvRNpwSkpJ",
        "outputId": "89f5fa30-239d-4143-c970-f9d1aee94587"
      },
      "execution_count": null,
      "outputs": [
        {
          "output_type": "execute_result",
          "data": {
            "text/plain": [
              "3072"
            ]
          },
          "metadata": {},
          "execution_count": 31
        }
      ]
    },
    {
      "cell_type": "code",
      "source": [
        "# defining model\n",
        "model = nn.Sequential(\n",
        "    nn.Linear(3072, 512),\n",
        "    nn.Tanh(),\n",
        "    nn.Linear(512, 2),\n",
        "    nn.LogSoftmax(dim= 1),\n",
        ")"
      ],
      "metadata": {
        "id": "3bVSvAwVSohG"
      },
      "execution_count": null,
      "outputs": []
    },
    {
      "cell_type": "code",
      "source": [
        "criterion = nn.NLLLoss()\n",
        "optimizer = optim.SGD(model.parameters(), lr=1e-3)"
      ],
      "metadata": {
        "id": "OTPTmkq-Twn5"
      },
      "execution_count": null,
      "outputs": []
    },
    {
      "cell_type": "code",
      "source": [
        "train_dataloader = DataLoader(train_dataset, batch_size = 32, shuffle=True)\n",
        "\n",
        "valid_dataloader = DataLoader(valid_dataset, batch_size = 32, shuffle=True)"
      ],
      "metadata": {
        "id": "e8upGQabUisX"
      },
      "execution_count": null,
      "outputs": []
    },
    {
      "cell_type": "code",
      "source": [
        "epochs = 50\n",
        "\n",
        "for epoch in range(epochs):\n",
        "  for img, labels in train_dataloader:\n",
        "    batch_size = img.shape[0]\n",
        "    pred = model(img.view(batch_size, -1))\n",
        "    loss = criterion(pred, labels)\n",
        "\n",
        "    optimizer.zero_grad()\n",
        "    loss.backward()\n",
        "    optimizer.step()\n",
        "\n",
        "  print(\"Epoch: %d, Loss: %f\" % (epoch, float(loss)))"
      ],
      "metadata": {
        "colab": {
          "base_uri": "https://localhost:8080/"
        },
        "id": "eo_bo9abWxIb",
        "outputId": "47855817-2d38-4cf2-c600-25b87865f556"
      },
      "execution_count": null,
      "outputs": [
        {
          "output_type": "stream",
          "name": "stdout",
          "text": [
            "Epoch: 0, Loss: 0.248297\n",
            "Epoch: 1, Loss: 0.507545\n",
            "Epoch: 2, Loss: 0.470019\n",
            "Epoch: 3, Loss: 0.344460\n",
            "Epoch: 4, Loss: 0.473282\n",
            "Epoch: 5, Loss: 0.406540\n",
            "Epoch: 6, Loss: 0.361652\n",
            "Epoch: 7, Loss: 0.516309\n",
            "Epoch: 8, Loss: 0.198261\n",
            "Epoch: 9, Loss: 0.700940\n",
            "Epoch: 10, Loss: 0.268313\n",
            "Epoch: 11, Loss: 0.521171\n",
            "Epoch: 12, Loss: 0.154453\n",
            "Epoch: 13, Loss: 0.145037\n",
            "Epoch: 14, Loss: 0.302983\n",
            "Epoch: 15, Loss: 0.426984\n",
            "Epoch: 16, Loss: 0.536536\n",
            "Epoch: 17, Loss: 0.336187\n",
            "Epoch: 18, Loss: 0.389803\n",
            "Epoch: 19, Loss: 0.497461\n",
            "Epoch: 20, Loss: 0.433757\n",
            "Epoch: 21, Loss: 0.331496\n",
            "Epoch: 22, Loss: 0.276541\n",
            "Epoch: 23, Loss: 0.221667\n",
            "Epoch: 24, Loss: 0.431252\n",
            "Epoch: 25, Loss: 0.516633\n",
            "Epoch: 26, Loss: 0.319256\n",
            "Epoch: 27, Loss: 0.513841\n",
            "Epoch: 28, Loss: 0.392866\n",
            "Epoch: 29, Loss: 0.392488\n",
            "Epoch: 30, Loss: 0.642057\n",
            "Epoch: 31, Loss: 0.397947\n",
            "Epoch: 32, Loss: 0.264731\n",
            "Epoch: 33, Loss: 0.336315\n",
            "Epoch: 34, Loss: 0.573208\n",
            "Epoch: 35, Loss: 0.313224\n",
            "Epoch: 36, Loss: 0.338860\n",
            "Epoch: 37, Loss: 0.275797\n",
            "Epoch: 38, Loss: 0.277019\n",
            "Epoch: 39, Loss: 0.290161\n",
            "Epoch: 40, Loss: 0.240466\n",
            "Epoch: 41, Loss: 0.323922\n",
            "Epoch: 42, Loss: 0.194603\n",
            "Epoch: 43, Loss: 0.161701\n",
            "Epoch: 44, Loss: 0.203112\n",
            "Epoch: 45, Loss: 0.401138\n",
            "Epoch: 46, Loss: 0.254037\n",
            "Epoch: 47, Loss: 0.256931\n",
            "Epoch: 48, Loss: 0.401522\n",
            "Epoch: 49, Loss: 0.817770\n"
          ]
        }
      ]
    },
    {
      "cell_type": "code",
      "source": [
        "correct = 0\n",
        "total = 0\n",
        "\n",
        "with torch.no_grad():\n",
        "  for imgs, labels in valid_dataloader:\n",
        "    batch_size = imgs.shape[0]\n",
        "    pred = model(imgs.view(batch_size, -1))\n",
        "    _, predictions = torch.max(pred, dim=1)\n",
        "    total += labels.shape[0]\n",
        "    correct += int((predictions == labels).sum())\n",
        "\n",
        "print(\"Accuracy: %f\", correct / total)"
      ],
      "metadata": {
        "colab": {
          "base_uri": "https://localhost:8080/"
        },
        "id": "U8zPCJFBXaF8",
        "outputId": "96e6e39b-47cd-4f52-b9b3-a1c3d6935ea1"
      },
      "execution_count": null,
      "outputs": [
        {
          "output_type": "stream",
          "name": "stdout",
          "text": [
            "Accuracy: %f 0.817\n"
          ]
        }
      ]
    },
    {
      "cell_type": "code",
      "source": [
        "## conv model\n",
        "class Net(nn.Module):\n",
        "  def __init__(self):\n",
        "    super().__init__()\n",
        "\n",
        "    # image => 3*32*32\n",
        "    self.conv1 = nn.Conv2d(3, 32, kernel_size=3, padding=1)\n",
        "    self.dropout_1 = nn.Dropout(p=0.4)\n",
        "\n",
        "    # image 16*16*16\n",
        "    self.conv2 = nn.Conv2d(32, 16, kernel_size=3, padding=1)\n",
        "    self.dropout_2 = nn.Dropout(p=0.4)\n",
        "\n",
        "    # image 8*8*8\n",
        "    self.fc1 = nn.Linear(16*8*8, 32)\n",
        "    self.fc2 = nn.Linear(32, 2)\n",
        "\n",
        "  def forward(self, x):\n",
        "    x = F.max_pool2d(F.relu(self.conv1(x)), 2)\n",
        "    x = self.dropout_1(x)\n",
        "    x = F.max_pool2d(F.relu(self.conv2(x)), 2)\n",
        "    x = self.dropout_2(x)\n",
        "    x = x.view(-1, 16*8*8)\n",
        "    x = F.relu(self.fc1(x))\n",
        "    x = self.fc2(x)\n",
        "    return x\n",
        "\n"
      ],
      "metadata": {
        "id": "tvjBaDA1YqMX"
      },
      "execution_count": null,
      "outputs": []
    },
    {
      "cell_type": "code",
      "source": [
        "model = Net()\n",
        "model"
      ],
      "metadata": {
        "colab": {
          "base_uri": "https://localhost:8080/"
        },
        "id": "NTd6X1H_541V",
        "outputId": "c868a259-9113-4249-a828-e88a2ba71ba2"
      },
      "execution_count": null,
      "outputs": [
        {
          "output_type": "execute_result",
          "data": {
            "text/plain": [
              "Net(\n",
              "  (conv1): Conv2d(3, 32, kernel_size=(3, 3), stride=(1, 1), padding=(1, 1))\n",
              "  (dropout_1): Dropout(p=0.4, inplace=False)\n",
              "  (conv2): Conv2d(32, 16, kernel_size=(3, 3), stride=(1, 1), padding=(1, 1))\n",
              "  (dropout_2): Dropout(p=0.4, inplace=False)\n",
              "  (fc1): Linear(in_features=1024, out_features=32, bias=True)\n",
              "  (fc2): Linear(in_features=32, out_features=2, bias=True)\n",
              ")"
            ]
          },
          "metadata": {},
          "execution_count": 80
        }
      ]
    },
    {
      "cell_type": "code",
      "source": [
        "def train_loop(n_epochs, model, optimizer, loss_fn, train_loader, val_loader):\n",
        "  model.train()\n",
        "  for epoch in range(n_epochs):\n",
        "    print(f'\\nEpoch {epoch+1}')\n",
        "    train_loss, train_acc = 0.0, 0.0\n",
        "    val_loss, val_acc = 0.0, 0.0\n",
        "\n",
        "    for images, labels in train_loader:\n",
        "      outputs = model(images)\n",
        "\n",
        "      _, pred = torch.max(outputs, dim=1)\n",
        "\n",
        "      loss = loss_fn(outputs, labels)\n",
        "\n",
        "      optimizer.zero_grad()\n",
        "\n",
        "      loss.backward()\n",
        "\n",
        "      optimizer.step()\n",
        "\n",
        "      train_loss += loss.item() \n",
        "\n",
        "      train_acc += int((pred == labels).sum()) / len(pred)\n",
        "\n",
        "    # validating \n",
        "    model.eval()\n",
        "    for images, labels in val_loader:\n",
        "      with torch.no_grad():\n",
        "        outputs = model(images)\n",
        "\n",
        "        _, pred = torch.max(outputs, dim=1)\n",
        "\n",
        "        loss = loss_fn(outputs, labels)\n",
        "\n",
        "        val_loss += loss.item()\n",
        "        val_acc += int((pred == labels).sum()) / len(pred)\n",
        "\n",
        "    \n",
        "    train_loss = train_loss / len(train_loader)\n",
        "    train_acc = train_acc / len(train_loader)\n",
        "\n",
        "    val_loss = val_loss / len(val_loader)\n",
        "    val_acc = val_acc / len(val_loader)\n",
        "\n",
        "    print(f\"Training Loss: {train_loss:.3f}   Training Accuracy: {train_acc:.2f}\")\n",
        "    print(f\"Validation Loss: {val_loss:.3f}   Validation Accuracy: {val_acc:.2f}\")"
      ],
      "metadata": {
        "id": "UZ9iYaV-6BHV"
      },
      "execution_count": null,
      "outputs": []
    },
    {
      "cell_type": "code",
      "source": [
        "criterion = nn.CrossEntropyLoss()\n",
        "optimizer = optim.Adam(model.parameters(), lr=1e-3)"
      ],
      "metadata": {
        "id": "akMOX-8x9Oab"
      },
      "execution_count": null,
      "outputs": []
    },
    {
      "cell_type": "code",
      "source": [
        "train_loop(\n",
        "    15, \n",
        "    optimizer=optimizer, \n",
        "    model=model, \n",
        "    loss_fn=criterion, \n",
        "    train_loader=train_dataloader,\n",
        "    val_loader = valid_dataloader,\n",
        ")"
      ],
      "metadata": {
        "colab": {
          "base_uri": "https://localhost:8080/"
        },
        "id": "8CyTiKEF9Nmx",
        "outputId": "07e186fd-caac-443b-980e-35709e1df5dc"
      },
      "execution_count": null,
      "outputs": [
        {
          "output_type": "stream",
          "name": "stdout",
          "text": [
            "\n",
            "Epoch 1\n",
            "Training Loss: 0.457   Training Accuracy: 0.79\n",
            "Validation Loss: 0.357   Validation Accuracy: 0.84\n",
            "\n",
            "Epoch 2\n",
            "Training Loss: 0.323   Training Accuracy: 0.86\n",
            "Validation Loss: 0.307   Validation Accuracy: 0.87\n",
            "\n",
            "Epoch 3\n",
            "Training Loss: 0.283   Training Accuracy: 0.88\n",
            "Validation Loss: 0.280   Validation Accuracy: 0.88\n",
            "\n",
            "Epoch 4\n",
            "Training Loss: 0.261   Training Accuracy: 0.89\n",
            "Validation Loss: 0.272   Validation Accuracy: 0.89\n",
            "\n",
            "Epoch 5\n",
            "Training Loss: 0.237   Training Accuracy: 0.90\n",
            "Validation Loss: 0.260   Validation Accuracy: 0.90\n",
            "\n",
            "Epoch 6\n",
            "Training Loss: 0.216   Training Accuracy: 0.91\n",
            "Validation Loss: 0.267   Validation Accuracy: 0.89\n",
            "\n",
            "Epoch 7\n",
            "Training Loss: 0.201   Training Accuracy: 0.92\n",
            "Validation Loss: 0.256   Validation Accuracy: 0.90\n",
            "\n",
            "Epoch 8\n",
            "Training Loss: 0.180   Training Accuracy: 0.93\n",
            "Validation Loss: 0.271   Validation Accuracy: 0.90\n",
            "\n",
            "Epoch 9\n",
            "Training Loss: 0.160   Training Accuracy: 0.93\n",
            "Validation Loss: 0.239   Validation Accuracy: 0.90\n",
            "\n",
            "Epoch 10\n",
            "Training Loss: 0.148   Training Accuracy: 0.94\n",
            "Validation Loss: 0.273   Validation Accuracy: 0.91\n",
            "\n",
            "Epoch 11\n",
            "Training Loss: 0.133   Training Accuracy: 0.95\n",
            "Validation Loss: 0.265   Validation Accuracy: 0.90\n",
            "\n",
            "Epoch 12\n",
            "Training Loss: 0.112   Training Accuracy: 0.95\n",
            "Validation Loss: 0.279   Validation Accuracy: 0.90\n",
            "\n",
            "Epoch 13\n",
            "Training Loss: 0.097   Training Accuracy: 0.96\n",
            "Validation Loss: 0.294   Validation Accuracy: 0.91\n",
            "\n",
            "Epoch 14\n",
            "Training Loss: 0.084   Training Accuracy: 0.97\n",
            "Validation Loss: 0.352   Validation Accuracy: 0.90\n",
            "\n",
            "Epoch 15\n",
            "Training Loss: 0.069   Training Accuracy: 0.97\n",
            "Validation Loss: 0.369   Validation Accuracy: 0.90\n"
          ]
        }
      ]
    },
    {
      "cell_type": "code",
      "source": [
        ""
      ],
      "metadata": {
        "id": "rQQEni8C-3h4"
      },
      "execution_count": null,
      "outputs": []
    }
  ]
}
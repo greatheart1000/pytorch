{
  "nbformat": 4,
  "nbformat_minor": 0,
  "metadata": {
    "colab": {
      "name": "PyTorch_Custom_Dataset.ipynb",
      "provenance": [],
      "authorship_tag": "ABX9TyMBAP0s8dL5I+AaX5M+gbOx",
      "include_colab_link": true
    },
    "kernelspec": {
      "name": "python3",
      "display_name": "Python 3"
    },
    "language_info": {
      "name": "python"
    },
    "accelerator": "GPU"
  },
  "cells": [
    {
      "cell_type": "markdown",
      "metadata": {
        "id": "view-in-github",
        "colab_type": "text"
      },
      "source": [
        "<a href=\"https://colab.research.google.com/github/vishalrk1/pytorch/blob/main/PyTorch_Custom_Dataset.ipynb\" target=\"_parent\"><img src=\"https://colab.research.google.com/assets/colab-badge.svg\" alt=\"Open In Colab\"/></a>"
      ]
    },
    {
      "cell_type": "code",
      "execution_count": 1,
      "metadata": {
        "id": "TJb2uK61qIzF"
      },
      "outputs": [],
      "source": [
        "import torch \n",
        "import torch.nn as nn\n",
        "import torch.optim as optim\n",
        "\n",
        "import numpy as np\n",
        "import pandas as pd"
      ]
    },
    {
      "cell_type": "code",
      "source": [
        "!wget https://storage.googleapis.com/ztm_tf_course/food_vision/10_food_classes_10_percent.zip"
      ],
      "metadata": {
        "colab": {
          "base_uri": "https://localhost:8080/"
        },
        "id": "T7ybgFQkqTyI",
        "outputId": "f3d8382f-f9dd-4e19-b202-78b0422363e9"
      },
      "execution_count": 2,
      "outputs": [
        {
          "output_type": "stream",
          "name": "stdout",
          "text": [
            "--2021-12-29 08:04:33--  https://storage.googleapis.com/ztm_tf_course/food_vision/10_food_classes_10_percent.zip\n",
            "Resolving storage.googleapis.com (storage.googleapis.com)... 64.233.191.128, 209.85.145.128, 209.85.147.128, ...\n",
            "Connecting to storage.googleapis.com (storage.googleapis.com)|64.233.191.128|:443... connected.\n",
            "HTTP request sent, awaiting response... 200 OK\n",
            "Length: 168546183 (161M) [application/zip]\n",
            "Saving to: ‘10_food_classes_10_percent.zip’\n",
            "\n",
            "10_food_classes_10_ 100%[===================>] 160.74M   131MB/s    in 1.2s    \n",
            "\n",
            "2021-12-29 08:04:34 (131 MB/s) - ‘10_food_classes_10_percent.zip’ saved [168546183/168546183]\n",
            "\n"
          ]
        }
      ]
    },
    {
      "cell_type": "code",
      "source": [
        "!wget https://raw.githubusercontent.com/mrdbourke/tensorflow-deep-learning/main/extras/helper_functions.py\n",
        "\n",
        "# importing helper function\n",
        "from helper_functions import create_tensorboard_callback, plot_loss_curves, pred_and_plot, unzip_data, walk_through_dir"
      ],
      "metadata": {
        "colab": {
          "base_uri": "https://localhost:8080/"
        },
        "id": "7b5PLa16qbxF",
        "outputId": "2e3f175d-a788-4060-af5c-aad4eee9eb3f"
      },
      "execution_count": 3,
      "outputs": [
        {
          "output_type": "stream",
          "name": "stdout",
          "text": [
            "--2021-12-29 08:04:34--  https://raw.githubusercontent.com/mrdbourke/tensorflow-deep-learning/main/extras/helper_functions.py\n",
            "Resolving raw.githubusercontent.com (raw.githubusercontent.com)... 185.199.108.133, 185.199.109.133, 185.199.110.133, ...\n",
            "Connecting to raw.githubusercontent.com (raw.githubusercontent.com)|185.199.108.133|:443... connected.\n",
            "HTTP request sent, awaiting response... 200 OK\n",
            "Length: 10246 (10K) [text/plain]\n",
            "Saving to: ‘helper_functions.py’\n",
            "\n",
            "helper_functions.py 100%[===================>]  10.01K  --.-KB/s    in 0s      \n",
            "\n",
            "2021-12-29 08:04:34 (52.7 MB/s) - ‘helper_functions.py’ saved [10246/10246]\n",
            "\n"
          ]
        }
      ]
    },
    {
      "cell_type": "code",
      "source": [
        "unzip_data('10_food_classes_10_percent.zip')"
      ],
      "metadata": {
        "id": "rn9EX91hqwf5"
      },
      "execution_count": 4,
      "outputs": []
    },
    {
      "cell_type": "markdown",
      "source": [
        "## Writing Custom Dataset function for images"
      ],
      "metadata": {
        "id": "mwwy9UD_q3gN"
      }
    },
    {
      "cell_type": "code",
      "source": [
        "from torch.utils.data import Dataset\n",
        "from torchvision import transforms\n",
        "\n",
        "import pathlib\n",
        "import os\n",
        "import random\n",
        "from PIL import Image\n",
        "from typing import Tuple, Dict, List"
      ],
      "metadata": {
        "id": "Iin1dRZ-q2Dg"
      },
      "execution_count": 5,
      "outputs": []
    },
    {
      "cell_type": "code",
      "source": [
        "def find_classes(directory: str) -> Tuple[List[str], Dict[str, str]]:\n",
        "    \"\"\"Finds the class folder names in a target directory.\n",
        "\n",
        "    Args:\n",
        "        directory ([str]): target directory to load classnames from.\n",
        "\n",
        "    Returns:\n",
        "        Tuple[List[str], Dict[str, str]]: (list_of_class_names, dict(idx: class_name...))\n",
        "    \n",
        "    Example:\n",
        "        find_classes(\"food_images/train\")\n",
        "        >>> ([\"class_1\", \"class_2\"], {\"class_1\": 0, ...})\n",
        "    \"\"\"\n",
        "    classes = sorted(entry.name for entry in os.scandir(directory) if entry.is_dir())\n",
        "    if not classes:\n",
        "        raise FileNotFoundError(f\"Couldn't find any classes in {directory}.\")\n",
        "    class_to_idx = {cls_name: i for i, cls_name in enumerate(classes)}\n",
        "    return classes, class_to_idx"
      ],
      "metadata": {
        "id": "KRLDndnqsFmi"
      },
      "execution_count": 6,
      "outputs": []
    },
    {
      "cell_type": "code",
      "source": [
        "class ImageData(Dataset):\n",
        "  def __init__(self, target_dir, transform):\n",
        "    self.paths = list(pathlib.Path(target_dir).glob(\"*/*.jpg\"))\n",
        "    self.transform = transform\n",
        "    self.class_name, self.class_to_idx = find_classes(target_dir)\n",
        "\n",
        "  def __len__(self):\n",
        "    return len(self.paths)\n",
        "\n",
        "  def load_image(self, index):\n",
        "    img_path = self.paths[index]\n",
        "    return Image.open(img_path)\n",
        "\n",
        "  def __getitem__(self, index):\n",
        "    img = self.load_image(index)\n",
        "    class_name = self.paths[index].parent.name\n",
        "    class_idx = self.class_to_idx[class_name]\n",
        "\n",
        "    if self.transform:\n",
        "      return self.transform(img), class_idx\n",
        "    else:\n",
        "      return img, class_idx"
      ],
      "metadata": {
        "id": "_a1wred8rOma"
      },
      "execution_count": 7,
      "outputs": []
    },
    {
      "cell_type": "code",
      "source": [
        "from torchvision.transforms.autoaugment import RandAugment\n",
        "train_transform = transforms.Compose([\n",
        "    transforms.Resize((255, 255)),\n",
        "    transforms.CenterCrop(224),\n",
        "    transforms.RandAugment(num_ops=1,magnitude=5),\n",
        "    transforms.ToTensor(),\n",
        "])\n",
        "\n",
        "test_transform = transforms.Compose([\n",
        "    transforms.Resize(255),\n",
        "    transforms.CenterCrop(224),\n",
        "    transforms.ToTensor(),\n",
        "])"
      ],
      "metadata": {
        "id": "_5EfNph0twG7"
      },
      "execution_count": 8,
      "outputs": []
    },
    {
      "cell_type": "code",
      "source": [
        "train_dir = '/content/10_food_classes_10_percent/train'\n",
        "test_dir = '/content/10_food_classes_10_percent/test'"
      ],
      "metadata": {
        "id": "Z4_Yhd1xurap"
      },
      "execution_count": 9,
      "outputs": []
    },
    {
      "cell_type": "code",
      "source": [
        "train_data = ImageData(train_dir, train_transform)\n",
        "test_data = ImageData(test_dir, test_transform)"
      ],
      "metadata": {
        "id": "8uNFoplTunCO"
      },
      "execution_count": 10,
      "outputs": []
    },
    {
      "cell_type": "code",
      "source": [
        "len(train_data)"
      ],
      "metadata": {
        "colab": {
          "base_uri": "https://localhost:8080/"
        },
        "id": "0NPRXykou9xX",
        "outputId": "5d9bf616-0dc9-407f-bba5-190ef7f138a5"
      },
      "execution_count": 11,
      "outputs": [
        {
          "output_type": "execute_result",
          "data": {
            "text/plain": [
              "750"
            ]
          },
          "metadata": {},
          "execution_count": 11
        }
      ]
    },
    {
      "cell_type": "code",
      "source": [
        "# Turning datasets into dataloaders\n",
        "from torch.utils.data import DataLoader\n",
        "\n",
        "train_dataloader = DataLoader(train_data,  batch_size=32, num_workers=8, shuffle=True)\n",
        "test_dataloader = DataLoader(test_data,  batch_size=32, num_workers=8, shuffle=True)"
      ],
      "metadata": {
        "colab": {
          "base_uri": "https://localhost:8080/"
        },
        "id": "gDpwHasrvF01",
        "outputId": "0bad1f7e-5810-4efa-e319-a4c8336b1367"
      },
      "execution_count": 12,
      "outputs": [
        {
          "output_type": "stream",
          "name": "stderr",
          "text": [
            "/usr/local/lib/python3.7/dist-packages/torch/utils/data/dataloader.py:481: UserWarning: This DataLoader will create 8 worker processes in total. Our suggested max number of worker in current system is 2, which is smaller than what this DataLoader is going to create. Please be aware that excessive worker creation might get DataLoader running slow or even freeze, lower the worker number to avoid potential slowness/freeze if necessary.\n",
            "  cpuset_checked))\n"
          ]
        }
      ]
    },
    {
      "cell_type": "code",
      "source": [
        "train_data.class_name"
      ],
      "metadata": {
        "colab": {
          "base_uri": "https://localhost:8080/"
        },
        "id": "mlNph5H-vrB5",
        "outputId": "7ea8f878-06c5-4826-d9a8-ec9f44a4861f"
      },
      "execution_count": 13,
      "outputs": [
        {
          "output_type": "execute_result",
          "data": {
            "text/plain": [
              "['chicken_curry',\n",
              " 'chicken_wings',\n",
              " 'fried_rice',\n",
              " 'grilled_salmon',\n",
              " 'hamburger',\n",
              " 'ice_cream',\n",
              " 'pizza',\n",
              " 'ramen',\n",
              " 'steak',\n",
              " 'sushi']"
            ]
          },
          "metadata": {},
          "execution_count": 13
        }
      ]
    },
    {
      "cell_type": "code",
      "source": [
        "img, label = next(iter(train_dataloader))\n",
        "img.shape"
      ],
      "metadata": {
        "colab": {
          "base_uri": "https://localhost:8080/"
        },
        "id": "cCFbxCLDvuhx",
        "outputId": "3d6d31fb-c6d5-4aab-a891-a70d41a6c838"
      },
      "execution_count": 14,
      "outputs": [
        {
          "output_type": "stream",
          "name": "stderr",
          "text": [
            "/usr/local/lib/python3.7/dist-packages/torch/utils/data/dataloader.py:481: UserWarning: This DataLoader will create 8 worker processes in total. Our suggested max number of worker in current system is 2, which is smaller than what this DataLoader is going to create. Please be aware that excessive worker creation might get DataLoader running slow or even freeze, lower the worker number to avoid potential slowness/freeze if necessary.\n",
            "  cpuset_checked))\n"
          ]
        },
        {
          "output_type": "execute_result",
          "data": {
            "text/plain": [
              "torch.Size([32, 3, 224, 224])"
            ]
          },
          "metadata": {},
          "execution_count": 14
        }
      ]
    },
    {
      "cell_type": "code",
      "source": [
        "device = torch.device('cuda' if torch.cuda.is_available() else 'cpu')\n",
        "device"
      ],
      "metadata": {
        "colab": {
          "base_uri": "https://localhost:8080/"
        },
        "id": "_w-I96cuv4YZ",
        "outputId": "465f79d6-fe10-4a4c-f9d1-c177039fcda4"
      },
      "execution_count": 15,
      "outputs": [
        {
          "output_type": "execute_result",
          "data": {
            "text/plain": [
              "device(type='cuda')"
            ]
          },
          "metadata": {},
          "execution_count": 15
        }
      ]
    },
    {
      "cell_type": "markdown",
      "source": [
        "# creating tinyVGG Model"
      ],
      "metadata": {
        "id": "I1nOqXBS1DP8"
      }
    },
    {
      "cell_type": "code",
      "source": [
        "class TinyVGG(nn.Module):\n",
        "  def __init__(self, input_size, hidden_units, output_shape):\n",
        "    super().__init__()\n",
        "    self.conv_block_1 = nn.Sequential(\n",
        "        nn.Conv2d(in_channels=input_size, out_channels=hidden_units, kernel_size=3),\n",
        "        nn.ReLU(),\n",
        "        nn.Conv2d(in_channels=hidden_units, out_channels=hidden_units, kernel_size=3),\n",
        "        nn.ReLU(),\n",
        "        nn.MaxPool2d(2)    \n",
        "    )\n",
        "\n",
        "    self.conv_block_2 = nn.Sequential(\n",
        "        nn.Conv2d(in_channels=hidden_units, out_channels=hidden_units, kernel_size=3),\n",
        "        nn.ReLU(),\n",
        "        nn.Conv2d(in_channels=hidden_units, out_channels=hidden_units, kernel_size=3),\n",
        "        nn.ReLU(),\n",
        "        nn.MaxPool2d(2)\n",
        "    )\n",
        "\n",
        "    self.conv_block_3 = nn.Sequential(\n",
        "        nn.Conv2d(in_channels=hidden_units, out_channels=hidden_units, kernel_size=3),\n",
        "        nn.ReLU(),\n",
        "        nn.Conv2d(in_channels=hidden_units, out_channels=hidden_units, kernel_size=3),\n",
        "        nn.ReLU(),\n",
        "        nn.MaxPool2d(2)\n",
        "    )\n",
        "\n",
        "    # self.conv_block_4 = nn.Sequential(\n",
        "    #     nn.Conv2d(in_channels=hidden_units, out_channels=hidden_units, kernel_size=3),\n",
        "    #     nn.ReLU(),\n",
        "    #     nn.Conv2d(in_channels=hidden_units, out_channels=hidden_units, kernel_size=3),\n",
        "    #     nn.ReLU(),\n",
        "    #     nn.MaxPool2d(2)\n",
        "    # )\n",
        "\n",
        "    self.classifier = nn.Sequential(\n",
        "        nn.Flatten(),\n",
        "        nn.Linear(in_features=hidden_units*24*24, out_features=output_shape)\n",
        "    )\n",
        "\n",
        "  def forward(self, x):\n",
        "    x = self.conv_block_1(x)\n",
        "    x = self.conv_block_2(x)\n",
        "    x = self.conv_block_3(x)\n",
        "    # x = self.conv_block_4(x)\n",
        "    x = self.classifier(x)\n",
        "    return x"
      ],
      "metadata": {
        "id": "3_5_H2GH1Arg"
      },
      "execution_count": 34,
      "outputs": []
    },
    {
      "cell_type": "code",
      "source": [
        "model_0 = TinyVGG(\n",
        "    input_size=3,\n",
        "    hidden_units=32,\n",
        "    output_shape=len(train_data.class_name)\n",
        ").to(device)\n",
        "\n",
        "model_0"
      ],
      "metadata": {
        "colab": {
          "base_uri": "https://localhost:8080/"
        },
        "id": "ZMetS4ym26lq",
        "outputId": "8915aeb5-e61f-4bf8-d1c9-70178399a414"
      },
      "execution_count": 35,
      "outputs": [
        {
          "output_type": "execute_result",
          "data": {
            "text/plain": [
              "TinyVGG(\n",
              "  (conv_block_1): Sequential(\n",
              "    (0): Conv2d(3, 32, kernel_size=(3, 3), stride=(1, 1))\n",
              "    (1): ReLU()\n",
              "    (2): Conv2d(32, 32, kernel_size=(3, 3), stride=(1, 1))\n",
              "    (3): ReLU()\n",
              "    (4): MaxPool2d(kernel_size=2, stride=2, padding=0, dilation=1, ceil_mode=False)\n",
              "  )\n",
              "  (conv_block_2): Sequential(\n",
              "    (0): Conv2d(32, 32, kernel_size=(3, 3), stride=(1, 1))\n",
              "    (1): ReLU()\n",
              "    (2): Conv2d(32, 32, kernel_size=(3, 3), stride=(1, 1))\n",
              "    (3): ReLU()\n",
              "    (4): MaxPool2d(kernel_size=2, stride=2, padding=0, dilation=1, ceil_mode=False)\n",
              "  )\n",
              "  (conv_block_3): Sequential(\n",
              "    (0): Conv2d(32, 32, kernel_size=(3, 3), stride=(1, 1))\n",
              "    (1): ReLU()\n",
              "    (2): Conv2d(32, 32, kernel_size=(3, 3), stride=(1, 1))\n",
              "    (3): ReLU()\n",
              "    (4): MaxPool2d(kernel_size=2, stride=2, padding=0, dilation=1, ceil_mode=False)\n",
              "  )\n",
              "  (classifier): Sequential(\n",
              "    (0): Flatten(start_dim=1, end_dim=-1)\n",
              "    (1): Linear(in_features=18432, out_features=10, bias=True)\n",
              "  )\n",
              ")"
            ]
          },
          "metadata": {},
          "execution_count": 35
        }
      ]
    },
    {
      "cell_type": "code",
      "source": [
        "!pip install torchinfo"
      ],
      "metadata": {
        "colab": {
          "base_uri": "https://localhost:8080/"
        },
        "id": "2V2NNB6FOK5V",
        "outputId": "36558735-8c9a-4a07-e991-db6403632403"
      },
      "execution_count": 36,
      "outputs": [
        {
          "output_type": "stream",
          "name": "stdout",
          "text": [
            "Requirement already satisfied: torchinfo in /usr/local/lib/python3.7/dist-packages (1.6.1)\n"
          ]
        }
      ]
    },
    {
      "cell_type": "code",
      "source": [
        "from torchinfo import summary\n",
        "summary(model_0, input_size=[1, 3, 224, 224])"
      ],
      "metadata": {
        "colab": {
          "base_uri": "https://localhost:8080/"
        },
        "id": "fzmhY7Jc7UNT",
        "outputId": "8e637bab-9c05-4496-cbfa-c4905cebe0d7"
      },
      "execution_count": 37,
      "outputs": [
        {
          "output_type": "execute_result",
          "data": {
            "text/plain": [
              "==========================================================================================\n",
              "Layer (type:depth-idx)                   Output Shape              Param #\n",
              "==========================================================================================\n",
              "TinyVGG                                  --                        --\n",
              "├─Sequential: 1-1                        [1, 32, 110, 110]         --\n",
              "│    └─Conv2d: 2-1                       [1, 32, 222, 222]         896\n",
              "│    └─ReLU: 2-2                         [1, 32, 222, 222]         --\n",
              "│    └─Conv2d: 2-3                       [1, 32, 220, 220]         9,248\n",
              "│    └─ReLU: 2-4                         [1, 32, 220, 220]         --\n",
              "│    └─MaxPool2d: 2-5                    [1, 32, 110, 110]         --\n",
              "├─Sequential: 1-2                        [1, 32, 53, 53]           --\n",
              "│    └─Conv2d: 2-6                       [1, 32, 108, 108]         9,248\n",
              "│    └─ReLU: 2-7                         [1, 32, 108, 108]         --\n",
              "│    └─Conv2d: 2-8                       [1, 32, 106, 106]         9,248\n",
              "│    └─ReLU: 2-9                         [1, 32, 106, 106]         --\n",
              "│    └─MaxPool2d: 2-10                   [1, 32, 53, 53]           --\n",
              "├─Sequential: 1-3                        [1, 32, 24, 24]           --\n",
              "│    └─Conv2d: 2-11                      [1, 32, 51, 51]           9,248\n",
              "│    └─ReLU: 2-12                        [1, 32, 51, 51]           --\n",
              "│    └─Conv2d: 2-13                      [1, 32, 49, 49]           9,248\n",
              "│    └─ReLU: 2-14                        [1, 32, 49, 49]           --\n",
              "│    └─MaxPool2d: 2-15                   [1, 32, 24, 24]           --\n",
              "├─Sequential: 1-4                        [1, 10]                   --\n",
              "│    └─Flatten: 2-16                     [1, 18432]                --\n",
              "│    └─Linear: 2-17                      [1, 10]                   184,330\n",
              "==========================================================================================\n",
              "Total params: 231,466\n",
              "Trainable params: 231,466\n",
              "Non-trainable params: 0\n",
              "Total mult-adds (M): 749.98\n",
              "==========================================================================================\n",
              "Input size (MB): 0.60\n",
              "Forward/backward pass size (MB): 32.15\n",
              "Params size (MB): 0.93\n",
              "Estimated Total Size (MB): 33.68\n",
              "=========================================================================================="
            ]
          },
          "metadata": {},
          "execution_count": 37
        }
      ]
    },
    {
      "cell_type": "code",
      "source": [
        ""
      ],
      "metadata": {
        "id": "E64qsN3eLtQx"
      },
      "execution_count": 37,
      "outputs": []
    },
    {
      "cell_type": "code",
      "source": [
        "# Model training\n",
        "optimizer = optim.Adam(model_0.parameters(), lr=0.0001)\n",
        "criterion = nn.CrossEntropyLoss()\n",
        "\n",
        "epochs = 10\n",
        "\n",
        "results = {\n",
        "    'train_losses': [],\n",
        "    'valid_losses': [],\n",
        "    'train_acc': [],\n",
        "    'valid_acc': [],\n",
        "}\n",
        "\n",
        "for epoch in range(epochs):\n",
        "  train_loss = 0\n",
        "  valid_loss = 0\n",
        "\n",
        "  train_acc = 0\n",
        "  valid_acc = 0\n",
        "\n",
        "  # training model on training dataset\n",
        "  model_0.train()\n",
        "  for images, labels in train_dataloader:\n",
        "    images, labels = images.to(device), labels.to(device)\n",
        "\n",
        "    optimizer.zero_grad()\n",
        "\n",
        "    output = model_0.forward(images)\n",
        "    loss = criterion(output, labels)\n",
        "    loss.backward()\n",
        "    optimizer.step()\n",
        "\n",
        "    train_loss += loss.item()\n",
        "\n",
        "    output_class = torch.softmax(output, dim=1).argmax(dim=1)\n",
        "    train_acc += (output_class == labels).sum().item()/len(output)\n",
        "\n",
        "  # evaluating model on validation dataset\n",
        "  model_0.eval()\n",
        "  for images, labels in test_dataloader:\n",
        "    images, labels = images.to(device), labels.to(device)\n",
        "\n",
        "    output = model_0(images)\n",
        "    loss = criterion(output, labels)\n",
        "\n",
        "    valid_loss += loss.item()\n",
        "\n",
        "    output_class = torch.softmax(output, dim=1).argmax(dim=1)\n",
        "    valid_acc += (output_class == labels).sum().item()/len(output)\n",
        "\n",
        "  # calculating losses\n",
        "  train_loss = train_loss / len(train_dataloader)\n",
        "  valid_loss = valid_loss / len(test_dataloader)\n",
        "\n",
        "  # calculating accuracy\n",
        "  train_acc = train_acc / len(train_dataloader)\n",
        "  valid_acc = valid_acc / len(test_dataloader)\n",
        "\n",
        "  # storing losses and accuracy\n",
        "  results['train_losses'].append(train_loss)\n",
        "  results['valid_losses'].append(valid_loss)\n",
        "  results['train_acc'].append(train_acc)\n",
        "  results['valid_acc'].append(valid_acc)\n",
        "\n",
        "  print(f'Epoch: {epoch+1}')\n",
        "  print('Training Loss: {:.6f} \\tTraining Accuracy: {:.2f}'.format(train_loss, train_acc))\n",
        "  print('Validation Loss: {:.6f} \\tValidation Accuracy: {:.2f}'.format(valid_loss, valid_acc))"
      ],
      "metadata": {
        "colab": {
          "base_uri": "https://localhost:8080/"
        },
        "id": "k2ea4aHn7g2N",
        "outputId": "2d563ff3-2875-47c5-f521-ebdbceeb45e8"
      },
      "execution_count": 38,
      "outputs": [
        {
          "output_type": "stream",
          "name": "stderr",
          "text": [
            "/usr/local/lib/python3.7/dist-packages/torch/utils/data/dataloader.py:481: UserWarning: This DataLoader will create 8 worker processes in total. Our suggested max number of worker in current system is 2, which is smaller than what this DataLoader is going to create. Please be aware that excessive worker creation might get DataLoader running slow or even freeze, lower the worker number to avoid potential slowness/freeze if necessary.\n",
            "  cpuset_checked))\n"
          ]
        },
        {
          "output_type": "stream",
          "name": "stdout",
          "text": [
            "Epoch: 1\n",
            "Training Loss: 2.312297 \tTraining Accuracy: 0.08\n",
            "Validation Loss: 2.303576 \tValidation Accuracy: 0.10\n",
            "Epoch: 2\n",
            "Training Loss: 2.304608 \tTraining Accuracy: 0.10\n",
            "Validation Loss: 2.302524 \tValidation Accuracy: 0.10\n",
            "Epoch: 3\n",
            "Training Loss: 2.304482 \tTraining Accuracy: 0.09\n",
            "Validation Loss: 2.302280 \tValidation Accuracy: 0.14\n",
            "Epoch: 4\n",
            "Training Loss: 2.302915 \tTraining Accuracy: 0.11\n",
            "Validation Loss: 2.299536 \tValidation Accuracy: 0.16\n",
            "Epoch: 5\n",
            "Training Loss: 2.291088 \tTraining Accuracy: 0.14\n",
            "Validation Loss: 2.273605 \tValidation Accuracy: 0.19\n",
            "Epoch: 6\n",
            "Training Loss: 2.211621 \tTraining Accuracy: 0.20\n",
            "Validation Loss: 2.171418 \tValidation Accuracy: 0.19\n",
            "Epoch: 7\n",
            "Training Loss: 2.124440 \tTraining Accuracy: 0.22\n",
            "Validation Loss: 2.171449 \tValidation Accuracy: 0.20\n",
            "Epoch: 8\n",
            "Training Loss: 2.077141 \tTraining Accuracy: 0.26\n",
            "Validation Loss: 2.163895 \tValidation Accuracy: 0.19\n",
            "Epoch: 9\n",
            "Training Loss: 2.020088 \tTraining Accuracy: 0.27\n",
            "Validation Loss: 2.183024 \tValidation Accuracy: 0.20\n",
            "Epoch: 10\n",
            "Training Loss: 1.992725 \tTraining Accuracy: 0.29\n",
            "Validation Loss: 2.196581 \tValidation Accuracy: 0.20\n"
          ]
        }
      ]
    },
    {
      "cell_type": "code",
      "source": [
        "import matplotlib.pyplot as plt\n",
        "\n",
        "# code to plot loss and accuracy\n",
        "def plot_loss_accuracy(train_loss, train_acc, validation_loss, validation_acc):\n",
        "  epochs = len(train_loss)\n",
        "  fig, (ax1, ax2) = plt.subplots(1, 2)\n",
        "  ax1.plot(list(range(epochs)), train_loss, label='Training Loss')\n",
        "  ax1.plot(list(range(epochs)), validation_loss, label='Validation Loss')\n",
        "  ax1.set_xlabel('Epochs')\n",
        "  ax1.set_ylabel('Loss')\n",
        "  ax1.set_title('Epoch vs Loss')\n",
        "  ax1.legend()\n",
        "\n",
        "  ax2.plot(list(range(epochs)), train_acc, label='Training Accuracy')\n",
        "  ax2.plot(list(range(epochs)), validation_acc, label='Validation Accuracy')\n",
        "  ax2.set_xlabel('Epochs')\n",
        "  ax2.set_ylabel('Accuracy')\n",
        "  ax2.set_title('Epoch vs Accuracy')\n",
        "  ax2.legend()\n",
        "  fig.set_size_inches(15.5, 5.5)\n",
        "  #plt.show()"
      ],
      "metadata": {
        "id": "eveYrKufTesT"
      },
      "execution_count": 51,
      "outputs": []
    },
    {
      "cell_type": "code",
      "source": [
        "plot_loss_accuracy(results['train_losses'], results['train_acc'], results['valid_losses'], results['valid_acc'])"
      ],
      "metadata": {
        "colab": {
          "base_uri": "https://localhost:8080/",
          "height": 377
        },
        "id": "QdQkFBKuTfgt",
        "outputId": "ea0ece46-3227-45ec-cde8-391099ec981d"
      },
      "execution_count": 52,
      "outputs": [
        {
          "output_type": "display_data",
          "data": {
            "image/png": "[encoded data removed]",
            "text/plain": [
              "<Figure size 1116x396 with 2 Axes>"
            ]
          },
          "metadata": {
            "needs_background": "light"
          }
        }
      ]
    },
    {
      "cell_type": "markdown",
      "source": [
        "## Using Pretrained Model"
      ],
      "metadata": {
        "id": "c-7uohWyQdWm"
      }
    },
    {
      "cell_type": "code",
      "source": [
        "from torchvision import models"
      ],
      "metadata": {
        "id": "TxLu6xdpQ2EL"
      },
      "execution_count": 40,
      "outputs": []
    },
    {
      "cell_type": "code",
      "source": [
        "model = models.alexnet(pretrained=True)\n",
        "model"
      ],
      "metadata": {
        "colab": {
          "base_uri": "https://localhost:8080/"
        },
        "id": "zjYX8aqjRE3F",
        "outputId": "881cb8fb-87d4-4338-dd89-46b2fd06c001"
      },
      "execution_count": 43,
      "outputs": [
        {
          "output_type": "execute_result",
          "data": {
            "text/plain": [
              "AlexNet(\n",
              "  (features): Sequential(\n",
              "    (0): Conv2d(3, 64, kernel_size=(11, 11), stride=(4, 4), padding=(2, 2))\n",
              "    (1): ReLU(inplace=True)\n",
              "    (2): MaxPool2d(kernel_size=3, stride=2, padding=0, dilation=1, ceil_mode=False)\n",
              "    (3): Conv2d(64, 192, kernel_size=(5, 5), stride=(1, 1), padding=(2, 2))\n",
              "    (4): ReLU(inplace=True)\n",
              "    (5): MaxPool2d(kernel_size=3, stride=2, padding=0, dilation=1, ceil_mode=False)\n",
              "    (6): Conv2d(192, 384, kernel_size=(3, 3), stride=(1, 1), padding=(1, 1))\n",
              "    (7): ReLU(inplace=True)\n",
              "    (8): Conv2d(384, 256, kernel_size=(3, 3), stride=(1, 1), padding=(1, 1))\n",
              "    (9): ReLU(inplace=True)\n",
              "    (10): Conv2d(256, 256, kernel_size=(3, 3), stride=(1, 1), padding=(1, 1))\n",
              "    (11): ReLU(inplace=True)\n",
              "    (12): MaxPool2d(kernel_size=3, stride=2, padding=0, dilation=1, ceil_mode=False)\n",
              "  )\n",
              "  (avgpool): AdaptiveAvgPool2d(output_size=(6, 6))\n",
              "  (classifier): Sequential(\n",
              "    (0): Dropout(p=0.5, inplace=False)\n",
              "    (1): Linear(in_features=9216, out_features=4096, bias=True)\n",
              "    (2): ReLU(inplace=True)\n",
              "    (3): Dropout(p=0.5, inplace=False)\n",
              "    (4): Linear(in_features=4096, out_features=4096, bias=True)\n",
              "    (5): ReLU(inplace=True)\n",
              "    (6): Linear(in_features=4096, out_features=1000, bias=True)\n",
              "  )\n",
              ")"
            ]
          },
          "metadata": {},
          "execution_count": 43
        }
      ]
    },
    {
      "cell_type": "code",
      "source": [
        "class FoodModel(nn.Module):\n",
        "  def __init__(self, output_shape, is_trainable=False):\n",
        "    super().__init__()\n",
        "\n",
        "    self.alexnet = models.alexnet(pretrained=True)\n",
        "    self.is_trainable = is_trainable\n",
        "\n",
        "    for param in self.alexnet.parameters():\n",
        "      param.requires_grad = self.is_trainable\n",
        "    \n",
        "    self.alexnet.classifier[6] = nn.Linear(in_features=4096, out_features=output_shape)\n",
        "\n",
        "  def forward(self, x):\n",
        "    return self.alexnet(x)"
      ],
      "metadata": {
        "id": "WNvhEvR8MLlP"
      },
      "execution_count": 48,
      "outputs": []
    },
    {
      "cell_type": "code",
      "source": [
        "model_1 = FoodModel(\n",
        "    output_shape=10,\n",
        "    is_trainable=False,\n",
        ").to(device)\n",
        "\n",
        "model_1"
      ],
      "metadata": {
        "colab": {
          "base_uri": "https://localhost:8080/"
        },
        "id": "P_UNdso_S9Yw",
        "outputId": "754d9ad1-1dfe-4017-d249-a258ca1667c8"
      },
      "execution_count": 49,
      "outputs": [
        {
          "output_type": "execute_result",
          "data": {
            "text/plain": [
              "FoodModel(\n",
              "  (alexnet): AlexNet(\n",
              "    (features): Sequential(\n",
              "      (0): Conv2d(3, 64, kernel_size=(11, 11), stride=(4, 4), padding=(2, 2))\n",
              "      (1): ReLU(inplace=True)\n",
              "      (2): MaxPool2d(kernel_size=3, stride=2, padding=0, dilation=1, ceil_mode=False)\n",
              "      (3): Conv2d(64, 192, kernel_size=(5, 5), stride=(1, 1), padding=(2, 2))\n",
              "      (4): ReLU(inplace=True)\n",
              "      (5): MaxPool2d(kernel_size=3, stride=2, padding=0, dilation=1, ceil_mode=False)\n",
              "      (6): Conv2d(192, 384, kernel_size=(3, 3), stride=(1, 1), padding=(1, 1))\n",
              "      (7): ReLU(inplace=True)\n",
              "      (8): Conv2d(384, 256, kernel_size=(3, 3), stride=(1, 1), padding=(1, 1))\n",
              "      (9): ReLU(inplace=True)\n",
              "      (10): Conv2d(256, 256, kernel_size=(3, 3), stride=(1, 1), padding=(1, 1))\n",
              "      (11): ReLU(inplace=True)\n",
              "      (12): MaxPool2d(kernel_size=3, stride=2, padding=0, dilation=1, ceil_mode=False)\n",
              "    )\n",
              "    (avgpool): AdaptiveAvgPool2d(output_size=(6, 6))\n",
              "    (classifier): Sequential(\n",
              "      (0): Dropout(p=0.5, inplace=False)\n",
              "      (1): Linear(in_features=9216, out_features=4096, bias=True)\n",
              "      (2): ReLU(inplace=True)\n",
              "      (3): Dropout(p=0.5, inplace=False)\n",
              "      (4): Linear(in_features=4096, out_features=4096, bias=True)\n",
              "      (5): ReLU(inplace=True)\n",
              "      (6): Linear(in_features=4096, out_features=10, bias=True)\n",
              "    )\n",
              "  )\n",
              ")"
            ]
          },
          "metadata": {},
          "execution_count": 49
        }
      ]
    },
    {
      "cell_type": "code",
      "source": [
        "# Model training\n",
        "optimizer = optim.Adam(model_1.parameters(), lr=0.0001)\n",
        "criterion = nn.CrossEntropyLoss()\n",
        "\n",
        "epochs = 10\n",
        "\n",
        "results = {\n",
        "    'train_losses': [],\n",
        "    'valid_losses': [],\n",
        "    'train_acc': [],\n",
        "    'valid_acc': [],\n",
        "}\n",
        "\n",
        "for epoch in range(epochs):\n",
        "  train_loss = 0\n",
        "  valid_loss = 0\n",
        "\n",
        "  train_acc = 0\n",
        "  valid_acc = 0\n",
        "\n",
        "  # training model on training dataset\n",
        "  model_1.train()\n",
        "  for images, labels in train_dataloader:\n",
        "    images, labels = images.to(device), labels.to(device)\n",
        "\n",
        "    optimizer.zero_grad()\n",
        "\n",
        "    output = model_1.forward(images)\n",
        "    loss = criterion(output, labels)\n",
        "    loss.backward()\n",
        "    optimizer.step()\n",
        "\n",
        "    train_loss += loss.item()\n",
        "\n",
        "    output_class = torch.softmax(output, dim=1).argmax(dim=1)\n",
        "    train_acc += (output_class == labels).sum().item()/len(output)\n",
        "\n",
        "  # evaluating model on validation dataset\n",
        "  model_1.eval()\n",
        "  for images, labels in test_dataloader:\n",
        "    images, labels = images.to(device), labels.to(device)\n",
        "\n",
        "    output = model_1(images)\n",
        "    loss = criterion(output, labels)\n",
        "\n",
        "    valid_loss += loss.item()\n",
        "\n",
        "    output_class = torch.softmax(output, dim=1).argmax(dim=1)\n",
        "    valid_acc += (output_class == labels).sum().item()/len(output)\n",
        "\n",
        "  # calculating losses\n",
        "  train_loss = train_loss / len(train_dataloader)\n",
        "  valid_loss = valid_loss / len(test_dataloader)\n",
        "\n",
        "  # calculating accuracy\n",
        "  train_acc = train_acc / len(train_dataloader)\n",
        "  valid_acc = valid_acc / len(test_dataloader)\n",
        "\n",
        "  # storing losses and accuracy\n",
        "  results['train_losses'].append(train_loss)\n",
        "  results['valid_losses'].append(valid_loss)\n",
        "  results['train_acc'].append(train_acc)\n",
        "  results['valid_acc'].append(valid_acc)\n",
        "\n",
        "  print(f'Epoch: {epoch+1}')\n",
        "  print('Training Loss: {:.6f} \\tTraining Accuracy: {:.2f}'.format(train_loss, train_acc))\n",
        "  print('Validation Loss: {:.6f} \\tValidation Accuracy: {:.2f}'.format(valid_loss, valid_acc))"
      ],
      "metadata": {
        "colab": {
          "base_uri": "https://localhost:8080/"
        },
        "id": "PL6YjhDJTMXm",
        "outputId": "085e103d-a103-460b-a544-2746d0bd3ffa"
      },
      "execution_count": 53,
      "outputs": [
        {
          "output_type": "stream",
          "name": "stderr",
          "text": [
            "/usr/local/lib/python3.7/dist-packages/torch/utils/data/dataloader.py:481: UserWarning: This DataLoader will create 8 worker processes in total. Our suggested max number of worker in current system is 2, which is smaller than what this DataLoader is going to create. Please be aware that excessive worker creation might get DataLoader running slow or even freeze, lower the worker number to avoid potential slowness/freeze if necessary.\n",
            "  cpuset_checked))\n"
          ]
        },
        {
          "output_type": "stream",
          "name": "stdout",
          "text": [
            "Epoch: 1\n",
            "Training Loss: 2.294188 \tTraining Accuracy: 0.15\n",
            "Validation Loss: 2.106230 \tValidation Accuracy: 0.26\n",
            "Epoch: 2\n",
            "Training Loss: 2.020036 \tTraining Accuracy: 0.29\n",
            "Validation Loss: 1.915214 \tValidation Accuracy: 0.37\n",
            "Epoch: 3\n",
            "Training Loss: 1.863146 \tTraining Accuracy: 0.37\n",
            "Validation Loss: 1.769798 \tValidation Accuracy: 0.44\n",
            "Epoch: 4\n",
            "Training Loss: 1.705117 \tTraining Accuracy: 0.45\n",
            "Validation Loss: 1.666507 \tValidation Accuracy: 0.48\n",
            "Epoch: 5\n",
            "Training Loss: 1.631093 \tTraining Accuracy: 0.47\n",
            "Validation Loss: 1.601202 \tValidation Accuracy: 0.49\n",
            "Epoch: 6\n",
            "Training Loss: 1.531158 \tTraining Accuracy: 0.52\n",
            "Validation Loss: 1.537005 \tValidation Accuracy: 0.52\n",
            "Epoch: 7\n",
            "Training Loss: 1.450868 \tTraining Accuracy: 0.54\n",
            "Validation Loss: 1.489577 \tValidation Accuracy: 0.52\n",
            "Epoch: 8\n",
            "Training Loss: 1.407371 \tTraining Accuracy: 0.54\n",
            "Validation Loss: 1.451817 \tValidation Accuracy: 0.54\n",
            "Epoch: 9\n",
            "Training Loss: 1.384113 \tTraining Accuracy: 0.54\n",
            "Validation Loss: 1.419493 \tValidation Accuracy: 0.55\n",
            "Epoch: 10\n",
            "Training Loss: 1.335243 \tTraining Accuracy: 0.60\n",
            "Validation Loss: 1.402318 \tValidation Accuracy: 0.55\n"
          ]
        }
      ]
    },
    {
      "cell_type": "code",
      "source": [
        "plot_loss_accuracy(results['train_losses'], results['train_acc'], results['valid_losses'], results['valid_acc'])"
      ],
      "metadata": {
        "colab": {
          "base_uri": "https://localhost:8080/",
          "height": 377
        },
        "id": "SUOThEb4UAFk",
        "outputId": "e0eb075c-30c7-4316-e0c6-d653a58eb2fe"
      },
      "execution_count": 54,
      "outputs": [
        {
          "output_type": "display_data",
          "data": {
            "image/png": "[encoded data removed]",
            "text/plain": [
              "<Figure size 1116x396 with 2 Axes>"
            ]
          },
          "metadata": {
            "needs_background": "light"
          }
        }
      ]
    },
    {
      "cell_type": "markdown",
      "source": [
        "## Setting training equalt to True"
      ],
      "metadata": {
        "id": "w5MdkrSDU_Ev"
      }
    },
    {
      "cell_type": "code",
      "source": [
        "model_2 = FoodModel(\n",
        "    output_shape=10,\n",
        "    is_trainable=True,\n",
        ").to(device)\n",
        "\n",
        "model_2"
      ],
      "metadata": {
        "colab": {
          "base_uri": "https://localhost:8080/"
        },
        "id": "wg4fn_dEU6pk",
        "outputId": "86a9963d-953e-44dc-929f-d682ec0c5c3f"
      },
      "execution_count": 55,
      "outputs": [
        {
          "output_type": "execute_result",
          "data": {
            "text/plain": [
              "FoodModel(\n",
              "  (alexnet): AlexNet(\n",
              "    (features): Sequential(\n",
              "      (0): Conv2d(3, 64, kernel_size=(11, 11), stride=(4, 4), padding=(2, 2))\n",
              "      (1): ReLU(inplace=True)\n",
              "      (2): MaxPool2d(kernel_size=3, stride=2, padding=0, dilation=1, ceil_mode=False)\n",
              "      (3): Conv2d(64, 192, kernel_size=(5, 5), stride=(1, 1), padding=(2, 2))\n",
              "      (4): ReLU(inplace=True)\n",
              "      (5): MaxPool2d(kernel_size=3, stride=2, padding=0, dilation=1, ceil_mode=False)\n",
              "      (6): Conv2d(192, 384, kernel_size=(3, 3), stride=(1, 1), padding=(1, 1))\n",
              "      (7): ReLU(inplace=True)\n",
              "      (8): Conv2d(384, 256, kernel_size=(3, 3), stride=(1, 1), padding=(1, 1))\n",
              "      (9): ReLU(inplace=True)\n",
              "      (10): Conv2d(256, 256, kernel_size=(3, 3), stride=(1, 1), padding=(1, 1))\n",
              "      (11): ReLU(inplace=True)\n",
              "      (12): MaxPool2d(kernel_size=3, stride=2, padding=0, dilation=1, ceil_mode=False)\n",
              "    )\n",
              "    (avgpool): AdaptiveAvgPool2d(output_size=(6, 6))\n",
              "    (classifier): Sequential(\n",
              "      (0): Dropout(p=0.5, inplace=False)\n",
              "      (1): Linear(in_features=9216, out_features=4096, bias=True)\n",
              "      (2): ReLU(inplace=True)\n",
              "      (3): Dropout(p=0.5, inplace=False)\n",
              "      (4): Linear(in_features=4096, out_features=4096, bias=True)\n",
              "      (5): ReLU(inplace=True)\n",
              "      (6): Linear(in_features=4096, out_features=10, bias=True)\n",
              "    )\n",
              "  )\n",
              ")"
            ]
          },
          "metadata": {},
          "execution_count": 55
        }
      ]
    },
    {
      "cell_type": "code",
      "source": [
        "# Model training\n",
        "optimizer = optim.Adam(model_2.parameters(), lr=0.0001)\n",
        "criterion = nn.CrossEntropyLoss()\n",
        "\n",
        "epochs = 10\n",
        "\n",
        "results = {\n",
        "    'train_losses': [],\n",
        "    'valid_losses': [],\n",
        "    'train_acc': [],\n",
        "    'valid_acc': [],\n",
        "}\n",
        "\n",
        "for epoch in range(epochs):\n",
        "  train_loss = 0\n",
        "  valid_loss = 0\n",
        "\n",
        "  train_acc = 0\n",
        "  valid_acc = 0\n",
        "\n",
        "  # training model on training dataset\n",
        "  model_2.train()\n",
        "  for images, labels in train_dataloader:\n",
        "    images, labels = images.to(device), labels.to(device)\n",
        "\n",
        "    optimizer.zero_grad()\n",
        "\n",
        "    output = model_2.forward(images)\n",
        "    loss = criterion(output, labels)\n",
        "    loss.backward()\n",
        "    optimizer.step()\n",
        "\n",
        "    train_loss += loss.item()\n",
        "\n",
        "    output_class = torch.softmax(output, dim=1).argmax(dim=1)\n",
        "    train_acc += (output_class == labels).sum().item()/len(output)\n",
        "\n",
        "  # evaluating model on validation dataset\n",
        "  model_2.eval()\n",
        "  for images, labels in test_dataloader:\n",
        "    images, labels = images.to(device), labels.to(device)\n",
        "\n",
        "    output = model_2(images)\n",
        "    loss = criterion(output, labels)\n",
        "\n",
        "    valid_loss += loss.item()\n",
        "\n",
        "    output_class = torch.softmax(output, dim=1).argmax(dim=1)\n",
        "    valid_acc += (output_class == labels).sum().item()/len(output)\n",
        "\n",
        "  # calculating losses\n",
        "  train_loss = train_loss / len(train_dataloader)\n",
        "  valid_loss = valid_loss / len(test_dataloader)\n",
        "\n",
        "  # calculating accuracy\n",
        "  train_acc = train_acc / len(train_dataloader)\n",
        "  valid_acc = valid_acc / len(test_dataloader)\n",
        "\n",
        "  # storing losses and accuracy\n",
        "  results['train_losses'].append(train_loss)\n",
        "  results['valid_losses'].append(valid_loss)\n",
        "  results['train_acc'].append(train_acc)\n",
        "  results['valid_acc'].append(valid_acc)\n",
        "\n",
        "  print(f'Epoch: {epoch+1}')\n",
        "  print('Training Loss: {:.6f} \\tTraining Accuracy: {:.2f}'.format(train_loss, train_acc))\n",
        "  print('Validation Loss: {:.6f} \\tValidation Accuracy: {:.2f}'.format(valid_loss, valid_acc))"
      ],
      "metadata": {
        "colab": {
          "base_uri": "https://localhost:8080/"
        },
        "id": "L56tIrgnVMSg",
        "outputId": "3556427b-cf4c-4824-fee4-82cf6a75c54c"
      },
      "execution_count": 56,
      "outputs": [
        {
          "output_type": "stream",
          "name": "stderr",
          "text": [
            "/usr/local/lib/python3.7/dist-packages/torch/utils/data/dataloader.py:481: UserWarning: This DataLoader will create 8 worker processes in total. Our suggested max number of worker in current system is 2, which is smaller than what this DataLoader is going to create. Please be aware that excessive worker creation might get DataLoader running slow or even freeze, lower the worker number to avoid potential slowness/freeze if necessary.\n",
            "  cpuset_checked))\n"
          ]
        },
        {
          "output_type": "stream",
          "name": "stdout",
          "text": [
            "Epoch: 1\n",
            "Training Loss: 2.136233 \tTraining Accuracy: 0.25\n",
            "Validation Loss: 1.701730 \tValidation Accuracy: 0.41\n",
            "Epoch: 2\n",
            "Training Loss: 1.311628 \tTraining Accuracy: 0.57\n",
            "Validation Loss: 1.215052 \tValidation Accuracy: 0.59\n",
            "Epoch: 3\n",
            "Training Loss: 0.914037 \tTraining Accuracy: 0.71\n",
            "Validation Loss: 1.206375 \tValidation Accuracy: 0.61\n",
            "Epoch: 4\n",
            "Training Loss: 0.709231 \tTraining Accuracy: 0.77\n",
            "Validation Loss: 1.128282 \tValidation Accuracy: 0.64\n",
            "Epoch: 5\n",
            "Training Loss: 0.461353 \tTraining Accuracy: 0.86\n",
            "Validation Loss: 1.280455 \tValidation Accuracy: 0.62\n",
            "Epoch: 6\n",
            "Training Loss: 0.327237 \tTraining Accuracy: 0.89\n",
            "Validation Loss: 1.226819 \tValidation Accuracy: 0.63\n",
            "Epoch: 7\n",
            "Training Loss: 0.266125 \tTraining Accuracy: 0.92\n",
            "Validation Loss: 1.293111 \tValidation Accuracy: 0.65\n",
            "Epoch: 8\n",
            "Training Loss: 0.200100 \tTraining Accuracy: 0.94\n",
            "Validation Loss: 1.215788 \tValidation Accuracy: 0.65\n",
            "Epoch: 9\n",
            "Training Loss: 0.148554 \tTraining Accuracy: 0.96\n",
            "Validation Loss: 1.383826 \tValidation Accuracy: 0.65\n",
            "Epoch: 10\n",
            "Training Loss: 0.113629 \tTraining Accuracy: 0.97\n",
            "Validation Loss: 1.250751 \tValidation Accuracy: 0.66\n"
          ]
        }
      ]
    },
    {
      "cell_type": "code",
      "source": [
        "plot_loss_accuracy(results['train_losses'], results['train_acc'], results['valid_losses'], results['valid_acc'])"
      ],
      "metadata": {
        "colab": {
          "base_uri": "https://localhost:8080/",
          "height": 377
        },
        "id": "qJfBHrmCVXf3",
        "outputId": "0f1c7d51-0463-4397-e494-88dbd9dcab10"
      },
      "execution_count": 57,
      "outputs": [
        {
          "output_type": "display_data",
          "data": {
            "image/png": "[encoded data removed]",
            "text/plain": [
              "<Figure size 1116x396 with 2 Axes>"
            ]
          },
          "metadata": {
            "needs_background": "light"
          }
        }
      ]
    },
    {
      "cell_type": "markdown",
      "source": [
        "# Using EfficientNet-B0 Model"
      ],
      "metadata": {
        "id": "WK_0psGIWsGd"
      }
    },
    {
      "cell_type": "code",
      "source": [
        "class FoodEfficientModel(nn.Module):\n",
        "  def __init__(self, output_shape, is_trainable=False):\n",
        "    super().__init__()\n",
        "\n",
        "    self.model = models.efficientnet_b0(pretrained=True)\n",
        "    self.is_trainable = is_trainable\n",
        "    self.output_shape = output_shape\n",
        "\n",
        "    for param in self.model.parameters():\n",
        "      param.requires_grad = self.is_trainable\n",
        "\n",
        "    self.model.classifier[1] = nn.Linear(in_features=1280, out_features=self.output_shape)\n",
        "\n",
        "  def forward(self, x):\n",
        "    return self.model(x)"
      ],
      "metadata": {
        "id": "_dVsQLWXWoq-"
      },
      "execution_count": 60,
      "outputs": []
    },
    {
      "cell_type": "code",
      "source": [
        "model_3 = FoodEfficientModel(output_shape=10).to(device)\n",
        "model_3"
      ],
      "metadata": {
        "colab": {
          "base_uri": "https://localhost:8080/"
        },
        "id": "VQ5BYsk_W64v",
        "outputId": "cf101427-f08a-4226-9904-b3de29cb3fe3"
      },
      "execution_count": 61,
      "outputs": [
        {
          "output_type": "execute_result",
          "data": {
            "text/plain": [
              "FoodEfficientModel(\n",
              "  (model): EfficientNet(\n",
              "    (features): Sequential(\n",
              "      (0): ConvNormActivation(\n",
              "        (0): Conv2d(3, 32, kernel_size=(3, 3), stride=(2, 2), padding=(1, 1), bias=False)\n",
              "        (1): BatchNorm2d(32, eps=1e-05, momentum=0.1, affine=True, track_running_stats=True)\n",
              "        (2): SiLU(inplace=True)\n",
              "      )\n",
              "      (1): Sequential(\n",
              "        (0): MBConv(\n",
              "          (block): Sequential(\n",
              "            (0): ConvNormActivation(\n",
              "              (0): Conv2d(32, 32, kernel_size=(3, 3), stride=(1, 1), padding=(1, 1), groups=32, bias=False)\n",
              "              (1): BatchNorm2d(32, eps=1e-05, momentum=0.1, affine=True, track_running_stats=True)\n",
              "              (2): SiLU(inplace=True)\n",
              "            )\n",
              "            (1): SqueezeExcitation(\n",
              "              (avgpool): AdaptiveAvgPool2d(output_size=1)\n",
              "              (fc1): Conv2d(32, 8, kernel_size=(1, 1), stride=(1, 1))\n",
              "              (fc2): Conv2d(8, 32, kernel_size=(1, 1), stride=(1, 1))\n",
              "              (activation): SiLU(inplace=True)\n",
              "              (scale_activation): Sigmoid()\n",
              "            )\n",
              "            (2): ConvNormActivation(\n",
              "              (0): Conv2d(32, 16, kernel_size=(1, 1), stride=(1, 1), bias=False)\n",
              "              (1): BatchNorm2d(16, eps=1e-05, momentum=0.1, affine=True, track_running_stats=True)\n",
              "            )\n",
              "          )\n",
              "          (stochastic_depth): StochasticDepth(p=0.0, mode=row)\n",
              "        )\n",
              "      )\n",
              "      (2): Sequential(\n",
              "        (0): MBConv(\n",
              "          (block): Sequential(\n",
              "            (0): ConvNormActivation(\n",
              "              (0): Conv2d(16, 96, kernel_size=(1, 1), stride=(1, 1), bias=False)\n",
              "              (1): BatchNorm2d(96, eps=1e-05, momentum=0.1, affine=True, track_running_stats=True)\n",
              "              (2): SiLU(inplace=True)\n",
              "            )\n",
              "            (1): ConvNormActivation(\n",
              "              (0): Conv2d(96, 96, kernel_size=(3, 3), stride=(2, 2), padding=(1, 1), groups=96, bias=False)\n",
              "              (1): BatchNorm2d(96, eps=1e-05, momentum=0.1, affine=True, track_running_stats=True)\n",
              "              (2): SiLU(inplace=True)\n",
              "            )\n",
              "            (2): SqueezeExcitation(\n",
              "              (avgpool): AdaptiveAvgPool2d(output_size=1)\n",
              "              (fc1): Conv2d(96, 4, kernel_size=(1, 1), stride=(1, 1))\n",
              "              (fc2): Conv2d(4, 96, kernel_size=(1, 1), stride=(1, 1))\n",
              "              (activation): SiLU(inplace=True)\n",
              "              (scale_activation): Sigmoid()\n",
              "            )\n",
              "            (3): ConvNormActivation(\n",
              "              (0): Conv2d(96, 24, kernel_size=(1, 1), stride=(1, 1), bias=False)\n",
              "              (1): BatchNorm2d(24, eps=1e-05, momentum=0.1, affine=True, track_running_stats=True)\n",
              "            )\n",
              "          )\n",
              "          (stochastic_depth): StochasticDepth(p=0.0125, mode=row)\n",
              "        )\n",
              "        (1): MBConv(\n",
              "          (block): Sequential(\n",
              "            (0): ConvNormActivation(\n",
              "              (0): Conv2d(24, 144, kernel_size=(1, 1), stride=(1, 1), bias=False)\n",
              "              (1): BatchNorm2d(144, eps=1e-05, momentum=0.1, affine=True, track_running_stats=True)\n",
              "              (2): SiLU(inplace=True)\n",
              "            )\n",
              "            (1): ConvNormActivation(\n",
              "              (0): Conv2d(144, 144, kernel_size=(3, 3), stride=(1, 1), padding=(1, 1), groups=144, bias=False)\n",
              "              (1): BatchNorm2d(144, eps=1e-05, momentum=0.1, affine=True, track_running_stats=True)\n",
              "              (2): SiLU(inplace=True)\n",
              "            )\n",
              "            (2): SqueezeExcitation(\n",
              "              (avgpool): AdaptiveAvgPool2d(output_size=1)\n",
              "              (fc1): Conv2d(144, 6, kernel_size=(1, 1), stride=(1, 1))\n",
              "              (fc2): Conv2d(6, 144, kernel_size=(1, 1), stride=(1, 1))\n",
              "              (activation): SiLU(inplace=True)\n",
              "              (scale_activation): Sigmoid()\n",
              "            )\n",
              "            (3): ConvNormActivation(\n",
              "              (0): Conv2d(144, 24, kernel_size=(1, 1), stride=(1, 1), bias=False)\n",
              "              (1): BatchNorm2d(24, eps=1e-05, momentum=0.1, affine=True, track_running_stats=True)\n",
              "            )\n",
              "          )\n",
              "          (stochastic_depth): StochasticDepth(p=0.025, mode=row)\n",
              "        )\n",
              "      )\n",
              "      (3): Sequential(\n",
              "        (0): MBConv(\n",
              "          (block): Sequential(\n",
              "            (0): ConvNormActivation(\n",
              "              (0): Conv2d(24, 144, kernel_size=(1, 1), stride=(1, 1), bias=False)\n",
              "              (1): BatchNorm2d(144, eps=1e-05, momentum=0.1, affine=True, track_running_stats=True)\n",
              "              (2): SiLU(inplace=True)\n",
              "            )\n",
              "            (1): ConvNormActivation(\n",
              "              (0): Conv2d(144, 144, kernel_size=(5, 5), stride=(2, 2), padding=(2, 2), groups=144, bias=False)\n",
              "              (1): BatchNorm2d(144, eps=1e-05, momentum=0.1, affine=True, track_running_stats=True)\n",
              "              (2): SiLU(inplace=True)\n",
              "            )\n",
              "            (2): SqueezeExcitation(\n",
              "              (avgpool): AdaptiveAvgPool2d(output_size=1)\n",
              "              (fc1): Conv2d(144, 6, kernel_size=(1, 1), stride=(1, 1))\n",
              "              (fc2): Conv2d(6, 144, kernel_size=(1, 1), stride=(1, 1))\n",
              "              (activation): SiLU(inplace=True)\n",
              "              (scale_activation): Sigmoid()\n",
              "            )\n",
              "            (3): ConvNormActivation(\n",
              "              (0): Conv2d(144, 40, kernel_size=(1, 1), stride=(1, 1), bias=False)\n",
              "              (1): BatchNorm2d(40, eps=1e-05, momentum=0.1, affine=True, track_running_stats=True)\n",
              "            )\n",
              "          )\n",
              "          (stochastic_depth): StochasticDepth(p=0.037500000000000006, mode=row)\n",
              "        )\n",
              "        (1): MBConv(\n",
              "          (block): Sequential(\n",
              "            (0): ConvNormActivation(\n",
              "              (0): Conv2d(40, 240, kernel_size=(1, 1), stride=(1, 1), bias=False)\n",
              "              (1): BatchNorm2d(240, eps=1e-05, momentum=0.1, affine=True, track_running_stats=True)\n",
              "              (2): SiLU(inplace=True)\n",
              "            )\n",
              "            (1): ConvNormActivation(\n",
              "              (0): Conv2d(240, 240, kernel_size=(5, 5), stride=(1, 1), padding=(2, 2), groups=240, bias=False)\n",
              "              (1): BatchNorm2d(240, eps=1e-05, momentum=0.1, affine=True, track_running_stats=True)\n",
              "              (2): SiLU(inplace=True)\n",
              "            )\n",
              "            (2): SqueezeExcitation(\n",
              "              (avgpool): AdaptiveAvgPool2d(output_size=1)\n",
              "              (fc1): Conv2d(240, 10, kernel_size=(1, 1), stride=(1, 1))\n",
              "              (fc2): Conv2d(10, 240, kernel_size=(1, 1), stride=(1, 1))\n",
              "              (activation): SiLU(inplace=True)\n",
              "              (scale_activation): Sigmoid()\n",
              "            )\n",
              "            (3): ConvNormActivation(\n",
              "              (0): Conv2d(240, 40, kernel_size=(1, 1), stride=(1, 1), bias=False)\n",
              "              (1): BatchNorm2d(40, eps=1e-05, momentum=0.1, affine=True, track_running_stats=True)\n",
              "            )\n",
              "          )\n",
              "          (stochastic_depth): StochasticDepth(p=0.05, mode=row)\n",
              "        )\n",
              "      )\n",
              "      (4): Sequential(\n",
              "        (0): MBConv(\n",
              "          (block): Sequential(\n",
              "            (0): ConvNormActivation(\n",
              "              (0): Conv2d(40, 240, kernel_size=(1, 1), stride=(1, 1), bias=False)\n",
              "              (1): BatchNorm2d(240, eps=1e-05, momentum=0.1, affine=True, track_running_stats=True)\n",
              "              (2): SiLU(inplace=True)\n",
              "            )\n",
              "            (1): ConvNormActivation(\n",
              "              (0): Conv2d(240, 240, kernel_size=(3, 3), stride=(2, 2), padding=(1, 1), groups=240, bias=False)\n",
              "              (1): BatchNorm2d(240, eps=1e-05, momentum=0.1, affine=True, track_running_stats=True)\n",
              "              (2): SiLU(inplace=True)\n",
              "            )\n",
              "            (2): SqueezeExcitation(\n",
              "              (avgpool): AdaptiveAvgPool2d(output_size=1)\n",
              "              (fc1): Conv2d(240, 10, kernel_size=(1, 1), stride=(1, 1))\n",
              "              (fc2): Conv2d(10, 240, kernel_size=(1, 1), stride=(1, 1))\n",
              "              (activation): SiLU(inplace=True)\n",
              "              (scale_activation): Sigmoid()\n",
              "            )\n",
              "            (3): ConvNormActivation(\n",
              "              (0): Conv2d(240, 80, kernel_size=(1, 1), stride=(1, 1), bias=False)\n",
              "              (1): BatchNorm2d(80, eps=1e-05, momentum=0.1, affine=True, track_running_stats=True)\n",
              "            )\n",
              "          )\n",
              "          (stochastic_depth): StochasticDepth(p=0.0625, mode=row)\n",
              "        )\n",
              "        (1): MBConv(\n",
              "          (block): Sequential(\n",
              "            (0): ConvNormActivation(\n",
              "              (0): Conv2d(80, 480, kernel_size=(1, 1), stride=(1, 1), bias=False)\n",
              "              (1): BatchNorm2d(480, eps=1e-05, momentum=0.1, affine=True, track_running_stats=True)\n",
              "              (2): SiLU(inplace=True)\n",
              "            )\n",
              "            (1): ConvNormActivation(\n",
              "              (0): Conv2d(480, 480, kernel_size=(3, 3), stride=(1, 1), padding=(1, 1), groups=480, bias=False)\n",
              "              (1): BatchNorm2d(480, eps=1e-05, momentum=0.1, affine=True, track_running_stats=True)\n",
              "              (2): SiLU(inplace=True)\n",
              "            )\n",
              "            (2): SqueezeExcitation(\n",
              "              (avgpool): AdaptiveAvgPool2d(output_size=1)\n",
              "              (fc1): Conv2d(480, 20, kernel_size=(1, 1), stride=(1, 1))\n",
              "              (fc2): Conv2d(20, 480, kernel_size=(1, 1), stride=(1, 1))\n",
              "              (activation): SiLU(inplace=True)\n",
              "              (scale_activation): Sigmoid()\n",
              "            )\n",
              "            (3): ConvNormActivation(\n",
              "              (0): Conv2d(480, 80, kernel_size=(1, 1), stride=(1, 1), bias=False)\n",
              "              (1): BatchNorm2d(80, eps=1e-05, momentum=0.1, affine=True, track_running_stats=True)\n",
              "            )\n",
              "          )\n",
              "          (stochastic_depth): StochasticDepth(p=0.07500000000000001, mode=row)\n",
              "        )\n",
              "        (2): MBConv(\n",
              "          (block): Sequential(\n",
              "            (0): ConvNormActivation(\n",
              "              (0): Conv2d(80, 480, kernel_size=(1, 1), stride=(1, 1), bias=False)\n",
              "              (1): BatchNorm2d(480, eps=1e-05, momentum=0.1, affine=True, track_running_stats=True)\n",
              "              (2): SiLU(inplace=True)\n",
              "            )\n",
              "            (1): ConvNormActivation(\n",
              "              (0): Conv2d(480, 480, kernel_size=(3, 3), stride=(1, 1), padding=(1, 1), groups=480, bias=False)\n",
              "              (1): BatchNorm2d(480, eps=1e-05, momentum=0.1, affine=True, track_running_stats=True)\n",
              "              (2): SiLU(inplace=True)\n",
              "            )\n",
              "            (2): SqueezeExcitation(\n",
              "              (avgpool): AdaptiveAvgPool2d(output_size=1)\n",
              "              (fc1): Conv2d(480, 20, kernel_size=(1, 1), stride=(1, 1))\n",
              "              (fc2): Conv2d(20, 480, kernel_size=(1, 1), stride=(1, 1))\n",
              "              (activation): SiLU(inplace=True)\n",
              "              (scale_activation): Sigmoid()\n",
              "            )\n",
              "            (3): ConvNormActivation(\n",
              "              (0): Conv2d(480, 80, kernel_size=(1, 1), stride=(1, 1), bias=False)\n",
              "              (1): BatchNorm2d(80, eps=1e-05, momentum=0.1, affine=True, track_running_stats=True)\n",
              "            )\n",
              "          )\n",
              "          (stochastic_depth): StochasticDepth(p=0.08750000000000001, mode=row)\n",
              "        )\n",
              "      )\n",
              "      (5): Sequential(\n",
              "        (0): MBConv(\n",
              "          (block): Sequential(\n",
              "            (0): ConvNormActivation(\n",
              "              (0): Conv2d(80, 480, kernel_size=(1, 1), stride=(1, 1), bias=False)\n",
              "              (1): BatchNorm2d(480, eps=1e-05, momentum=0.1, affine=True, track_running_stats=True)\n",
              "              (2): SiLU(inplace=True)\n",
              "            )\n",
              "            (1): ConvNormActivation(\n",
              "              (0): Conv2d(480, 480, kernel_size=(5, 5), stride=(1, 1), padding=(2, 2), groups=480, bias=False)\n",
              "              (1): BatchNorm2d(480, eps=1e-05, momentum=0.1, affine=True, track_running_stats=True)\n",
              "              (2): SiLU(inplace=True)\n",
              "            )\n",
              "            (2): SqueezeExcitation(\n",
              "              (avgpool): AdaptiveAvgPool2d(output_size=1)\n",
              "              (fc1): Conv2d(480, 20, kernel_size=(1, 1), stride=(1, 1))\n",
              "              (fc2): Conv2d(20, 480, kernel_size=(1, 1), stride=(1, 1))\n",
              "              (activation): SiLU(inplace=True)\n",
              "              (scale_activation): Sigmoid()\n",
              "            )\n",
              "            (3): ConvNormActivation(\n",
              "              (0): Conv2d(480, 112, kernel_size=(1, 1), stride=(1, 1), bias=False)\n",
              "              (1): BatchNorm2d(112, eps=1e-05, momentum=0.1, affine=True, track_running_stats=True)\n",
              "            )\n",
              "          )\n",
              "          (stochastic_depth): StochasticDepth(p=0.1, mode=row)\n",
              "        )\n",
              "        (1): MBConv(\n",
              "          (block): Sequential(\n",
              "            (0): ConvNormActivation(\n",
              "              (0): Conv2d(112, 672, kernel_size=(1, 1), stride=(1, 1), bias=False)\n",
              "              (1): BatchNorm2d(672, eps=1e-05, momentum=0.1, affine=True, track_running_stats=True)\n",
              "              (2): SiLU(inplace=True)\n",
              "            )\n",
              "            (1): ConvNormActivation(\n",
              "              (0): Conv2d(672, 672, kernel_size=(5, 5), stride=(1, 1), padding=(2, 2), groups=672, bias=False)\n",
              "              (1): BatchNorm2d(672, eps=1e-05, momentum=0.1, affine=True, track_running_stats=True)\n",
              "              (2): SiLU(inplace=True)\n",
              "            )\n",
              "            (2): SqueezeExcitation(\n",
              "              (avgpool): AdaptiveAvgPool2d(output_size=1)\n",
              "              (fc1): Conv2d(672, 28, kernel_size=(1, 1), stride=(1, 1))\n",
              "              (fc2): Conv2d(28, 672, kernel_size=(1, 1), stride=(1, 1))\n",
              "              (activation): SiLU(inplace=True)\n",
              "              (scale_activation): Sigmoid()\n",
              "            )\n",
              "            (3): ConvNormActivation(\n",
              "              (0): Conv2d(672, 112, kernel_size=(1, 1), stride=(1, 1), bias=False)\n",
              "              (1): BatchNorm2d(112, eps=1e-05, momentum=0.1, affine=True, track_running_stats=True)\n",
              "            )\n",
              "          )\n",
              "          (stochastic_depth): StochasticDepth(p=0.1125, mode=row)\n",
              "        )\n",
              "        (2): MBConv(\n",
              "          (block): Sequential(\n",
              "            (0): ConvNormActivation(\n",
              "              (0): Conv2d(112, 672, kernel_size=(1, 1), stride=(1, 1), bias=False)\n",
              "              (1): BatchNorm2d(672, eps=1e-05, momentum=0.1, affine=True, track_running_stats=True)\n",
              "              (2): SiLU(inplace=True)\n",
              "            )\n",
              "            (1): ConvNormActivation(\n",
              "              (0): Conv2d(672, 672, kernel_size=(5, 5), stride=(1, 1), padding=(2, 2), groups=672, bias=False)\n",
              "              (1): BatchNorm2d(672, eps=1e-05, momentum=0.1, affine=True, track_running_stats=True)\n",
              "              (2): SiLU(inplace=True)\n",
              "            )\n",
              "            (2): SqueezeExcitation(\n",
              "              (avgpool): AdaptiveAvgPool2d(output_size=1)\n",
              "              (fc1): Conv2d(672, 28, kernel_size=(1, 1), stride=(1, 1))\n",
              "              (fc2): Conv2d(28, 672, kernel_size=(1, 1), stride=(1, 1))\n",
              "              (activation): SiLU(inplace=True)\n",
              "              (scale_activation): Sigmoid()\n",
              "            )\n",
              "            (3): ConvNormActivation(\n",
              "              (0): Conv2d(672, 112, kernel_size=(1, 1), stride=(1, 1), bias=False)\n",
              "              (1): BatchNorm2d(112, eps=1e-05, momentum=0.1, affine=True, track_running_stats=True)\n",
              "            )\n",
              "          )\n",
              "          (stochastic_depth): StochasticDepth(p=0.125, mode=row)\n",
              "        )\n",
              "      )\n",
              "      (6): Sequential(\n",
              "        (0): MBConv(\n",
              "          (block): Sequential(\n",
              "            (0): ConvNormActivation(\n",
              "              (0): Conv2d(112, 672, kernel_size=(1, 1), stride=(1, 1), bias=False)\n",
              "              (1): BatchNorm2d(672, eps=1e-05, momentum=0.1, affine=True, track_running_stats=True)\n",
              "              (2): SiLU(inplace=True)\n",
              "            )\n",
              "            (1): ConvNormActivation(\n",
              "              (0): Conv2d(672, 672, kernel_size=(5, 5), stride=(2, 2), padding=(2, 2), groups=672, bias=False)\n",
              "              (1): BatchNorm2d(672, eps=1e-05, momentum=0.1, affine=True, track_running_stats=True)\n",
              "              (2): SiLU(inplace=True)\n",
              "            )\n",
              "            (2): SqueezeExcitation(\n",
              "              (avgpool): AdaptiveAvgPool2d(output_size=1)\n",
              "              (fc1): Conv2d(672, 28, kernel_size=(1, 1), stride=(1, 1))\n",
              "              (fc2): Conv2d(28, 672, kernel_size=(1, 1), stride=(1, 1))\n",
              "              (activation): SiLU(inplace=True)\n",
              "              (scale_activation): Sigmoid()\n",
              "            )\n",
              "            (3): ConvNormActivation(\n",
              "              (0): Conv2d(672, 192, kernel_size=(1, 1), stride=(1, 1), bias=False)\n",
              "              (1): BatchNorm2d(192, eps=1e-05, momentum=0.1, affine=True, track_running_stats=True)\n",
              "            )\n",
              "          )\n",
              "          (stochastic_depth): StochasticDepth(p=0.1375, mode=row)\n",
              "        )\n",
              "        (1): MBConv(\n",
              "          (block): Sequential(\n",
              "            (0): ConvNormActivation(\n",
              "              (0): Conv2d(192, 1152, kernel_size=(1, 1), stride=(1, 1), bias=False)\n",
              "              (1): BatchNorm2d(1152, eps=1e-05, momentum=0.1, affine=True, track_running_stats=True)\n",
              "              (2): SiLU(inplace=True)\n",
              "            )\n",
              "            (1): ConvNormActivation(\n",
              "              (0): Conv2d(1152, 1152, kernel_size=(5, 5), stride=(1, 1), padding=(2, 2), groups=1152, bias=False)\n",
              "              (1): BatchNorm2d(1152, eps=1e-05, momentum=0.1, affine=True, track_running_stats=True)\n",
              "              (2): SiLU(inplace=True)\n",
              "            )\n",
              "            (2): SqueezeExcitation(\n",
              "              (avgpool): AdaptiveAvgPool2d(output_size=1)\n",
              "              (fc1): Conv2d(1152, 48, kernel_size=(1, 1), stride=(1, 1))\n",
              "              (fc2): Conv2d(48, 1152, kernel_size=(1, 1), stride=(1, 1))\n",
              "              (activation): SiLU(inplace=True)\n",
              "              (scale_activation): Sigmoid()\n",
              "            )\n",
              "            (3): ConvNormActivation(\n",
              "              (0): Conv2d(1152, 192, kernel_size=(1, 1), stride=(1, 1), bias=False)\n",
              "              (1): BatchNorm2d(192, eps=1e-05, momentum=0.1, affine=True, track_running_stats=True)\n",
              "            )\n",
              "          )\n",
              "          (stochastic_depth): StochasticDepth(p=0.15000000000000002, mode=row)\n",
              "        )\n",
              "        (2): MBConv(\n",
              "          (block): Sequential(\n",
              "            (0): ConvNormActivation(\n",
              "              (0): Conv2d(192, 1152, kernel_size=(1, 1), stride=(1, 1), bias=False)\n",
              "              (1): BatchNorm2d(1152, eps=1e-05, momentum=0.1, affine=True, track_running_stats=True)\n",
              "              (2): SiLU(inplace=True)\n",
              "            )\n",
              "            (1): ConvNormActivation(\n",
              "              (0): Conv2d(1152, 1152, kernel_size=(5, 5), stride=(1, 1), padding=(2, 2), groups=1152, bias=False)\n",
              "              (1): BatchNorm2d(1152, eps=1e-05, momentum=0.1, affine=True, track_running_stats=True)\n",
              "              (2): SiLU(inplace=True)\n",
              "            )\n",
              "            (2): SqueezeExcitation(\n",
              "              (avgpool): AdaptiveAvgPool2d(output_size=1)\n",
              "              (fc1): Conv2d(1152, 48, kernel_size=(1, 1), stride=(1, 1))\n",
              "              (fc2): Conv2d(48, 1152, kernel_size=(1, 1), stride=(1, 1))\n",
              "              (activation): SiLU(inplace=True)\n",
              "              (scale_activation): Sigmoid()\n",
              "            )\n",
              "            (3): ConvNormActivation(\n",
              "              (0): Conv2d(1152, 192, kernel_size=(1, 1), stride=(1, 1), bias=False)\n",
              "              (1): BatchNorm2d(192, eps=1e-05, momentum=0.1, affine=True, track_running_stats=True)\n",
              "            )\n",
              "          )\n",
              "          (stochastic_depth): StochasticDepth(p=0.1625, mode=row)\n",
              "        )\n",
              "        (3): MBConv(\n",
              "          (block): Sequential(\n",
              "            (0): ConvNormActivation(\n",
              "              (0): Conv2d(192, 1152, kernel_size=(1, 1), stride=(1, 1), bias=False)\n",
              "              (1): BatchNorm2d(1152, eps=1e-05, momentum=0.1, affine=True, track_running_stats=True)\n",
              "              (2): SiLU(inplace=True)\n",
              "            )\n",
              "            (1): ConvNormActivation(\n",
              "              (0): Conv2d(1152, 1152, kernel_size=(5, 5), stride=(1, 1), padding=(2, 2), groups=1152, bias=False)\n",
              "              (1): BatchNorm2d(1152, eps=1e-05, momentum=0.1, affine=True, track_running_stats=True)\n",
              "              (2): SiLU(inplace=True)\n",
              "            )\n",
              "            (2): SqueezeExcitation(\n",
              "              (avgpool): AdaptiveAvgPool2d(output_size=1)\n",
              "              (fc1): Conv2d(1152, 48, kernel_size=(1, 1), stride=(1, 1))\n",
              "              (fc2): Conv2d(48, 1152, kernel_size=(1, 1), stride=(1, 1))\n",
              "              (activation): SiLU(inplace=True)\n",
              "              (scale_activation): Sigmoid()\n",
              "            )\n",
              "            (3): ConvNormActivation(\n",
              "              (0): Conv2d(1152, 192, kernel_size=(1, 1), stride=(1, 1), bias=False)\n",
              "              (1): BatchNorm2d(192, eps=1e-05, momentum=0.1, affine=True, track_running_stats=True)\n",
              "            )\n",
              "          )\n",
              "          (stochastic_depth): StochasticDepth(p=0.17500000000000002, mode=row)\n",
              "        )\n",
              "      )\n",
              "      (7): Sequential(\n",
              "        (0): MBConv(\n",
              "          (block): Sequential(\n",
              "            (0): ConvNormActivation(\n",
              "              (0): Conv2d(192, 1152, kernel_size=(1, 1), stride=(1, 1), bias=False)\n",
              "              (1): BatchNorm2d(1152, eps=1e-05, momentum=0.1, affine=True, track_running_stats=True)\n",
              "              (2): SiLU(inplace=True)\n",
              "            )\n",
              "            (1): ConvNormActivation(\n",
              "              (0): Conv2d(1152, 1152, kernel_size=(3, 3), stride=(1, 1), padding=(1, 1), groups=1152, bias=False)\n",
              "              (1): BatchNorm2d(1152, eps=1e-05, momentum=0.1, affine=True, track_running_stats=True)\n",
              "              (2): SiLU(inplace=True)\n",
              "            )\n",
              "            (2): SqueezeExcitation(\n",
              "              (avgpool): AdaptiveAvgPool2d(output_size=1)\n",
              "              (fc1): Conv2d(1152, 48, kernel_size=(1, 1), stride=(1, 1))\n",
              "              (fc2): Conv2d(48, 1152, kernel_size=(1, 1), stride=(1, 1))\n",
              "              (activation): SiLU(inplace=True)\n",
              "              (scale_activation): Sigmoid()\n",
              "            )\n",
              "            (3): ConvNormActivation(\n",
              "              (0): Conv2d(1152, 320, kernel_size=(1, 1), stride=(1, 1), bias=False)\n",
              "              (1): BatchNorm2d(320, eps=1e-05, momentum=0.1, affine=True, track_running_stats=True)\n",
              "            )\n",
              "          )\n",
              "          (stochastic_depth): StochasticDepth(p=0.1875, mode=row)\n",
              "        )\n",
              "      )\n",
              "      (8): ConvNormActivation(\n",
              "        (0): Conv2d(320, 1280, kernel_size=(1, 1), stride=(1, 1), bias=False)\n",
              "        (1): BatchNorm2d(1280, eps=1e-05, momentum=0.1, affine=True, track_running_stats=True)\n",
              "        (2): SiLU(inplace=True)\n",
              "      )\n",
              "    )\n",
              "    (avgpool): AdaptiveAvgPool2d(output_size=1)\n",
              "    (classifier): Sequential(\n",
              "      (0): Dropout(p=0.2, inplace=True)\n",
              "      (1): Linear(in_features=1280, out_features=10, bias=True)\n",
              "    )\n",
              "  )\n",
              ")"
            ]
          },
          "metadata": {},
          "execution_count": 61
        }
      ]
    },
    {
      "cell_type": "code",
      "source": [
        "# Model training\n",
        "optimizer = optim.Adam(model_3.parameters(), lr=0.0001)\n",
        "criterion = nn.CrossEntropyLoss()\n",
        "\n",
        "epochs = 10\n",
        "\n",
        "results = {\n",
        "    'train_losses': [],\n",
        "    'valid_losses': [],\n",
        "    'train_acc': [],\n",
        "    'valid_acc': [],\n",
        "}\n",
        "\n",
        "for epoch in range(epochs):\n",
        "  train_loss = 0\n",
        "  valid_loss = 0\n",
        "\n",
        "  train_acc = 0\n",
        "  valid_acc = 0\n",
        "\n",
        "  # training model on training dataset\n",
        "  model_3.train()\n",
        "  for images, labels in train_dataloader:\n",
        "    images, labels = images.to(device), labels.to(device)\n",
        "\n",
        "    optimizer.zero_grad()\n",
        "\n",
        "    output = model_3.forward(images)\n",
        "    loss = criterion(output, labels)\n",
        "    loss.backward()\n",
        "    optimizer.step()\n",
        "\n",
        "    train_loss += loss.item()\n",
        "\n",
        "    output_class = torch.softmax(output, dim=1).argmax(dim=1)\n",
        "    train_acc += (output_class == labels).sum().item()/len(output)\n",
        "\n",
        "  # evaluating model on validation dataset\n",
        "  model_3.eval()\n",
        "  for images, labels in test_dataloader:\n",
        "    images, labels = images.to(device), labels.to(device)\n",
        "\n",
        "    output = model_3(images)\n",
        "    loss = criterion(output, labels)\n",
        "\n",
        "    valid_loss += loss.item()\n",
        "\n",
        "    output_class = torch.softmax(output, dim=1).argmax(dim=1)\n",
        "    valid_acc += (output_class == labels).sum().item()/len(output)\n",
        "\n",
        "  # calculating losses\n",
        "  train_loss = train_loss / len(train_dataloader)\n",
        "  valid_loss = valid_loss / len(test_dataloader)\n",
        "\n",
        "  # calculating accuracy\n",
        "  train_acc = train_acc / len(train_dataloader)\n",
        "  valid_acc = valid_acc / len(test_dataloader)\n",
        "\n",
        "  # storing losses and accuracy\n",
        "  results['train_losses'].append(train_loss)\n",
        "  results['valid_losses'].append(valid_loss)\n",
        "  results['train_acc'].append(train_acc)\n",
        "  results['valid_acc'].append(valid_acc)\n",
        "\n",
        "  print(f'Epoch: {epoch+1}')\n",
        "  print('Training Loss: {:.6f} \\tTraining Accuracy: {:.2f}'.format(train_loss, train_acc))\n",
        "  print('Validation Loss: {:.6f} \\tValidation Accuracy: {:.2f}'.format(valid_loss, valid_acc))"
      ],
      "metadata": {
        "colab": {
          "base_uri": "https://localhost:8080/"
        },
        "id": "UcI0eVMOXlx1",
        "outputId": "f8087912-64f5-4a4c-af89-311f8019f746"
      },
      "execution_count": 62,
      "outputs": [
        {
          "output_type": "stream",
          "name": "stderr",
          "text": [
            "/usr/local/lib/python3.7/dist-packages/torch/utils/data/dataloader.py:481: UserWarning: This DataLoader will create 8 worker processes in total. Our suggested max number of worker in current system is 2, which is smaller than what this DataLoader is going to create. Please be aware that excessive worker creation might get DataLoader running slow or even freeze, lower the worker number to avoid potential slowness/freeze if necessary.\n",
            "  cpuset_checked))\n"
          ]
        },
        {
          "output_type": "stream",
          "name": "stdout",
          "text": [
            "Epoch: 1\n",
            "Training Loss: 2.315336 \tTraining Accuracy: 0.13\n",
            "Validation Loss: 2.264189 \tValidation Accuracy: 0.17\n",
            "Epoch: 2\n",
            "Training Loss: 2.255983 \tTraining Accuracy: 0.17\n",
            "Validation Loss: 2.207958 \tValidation Accuracy: 0.23\n",
            "Epoch: 3\n",
            "Training Loss: 2.184519 \tTraining Accuracy: 0.27\n",
            "Validation Loss: 2.153381 \tValidation Accuracy: 0.31\n",
            "Epoch: 4\n",
            "Training Loss: 2.138879 \tTraining Accuracy: 0.31\n",
            "Validation Loss: 2.100984 \tValidation Accuracy: 0.39\n",
            "Epoch: 5\n",
            "Training Loss: 2.093967 \tTraining Accuracy: 0.34\n",
            "Validation Loss: 2.053087 \tValidation Accuracy: 0.43\n",
            "Epoch: 6\n",
            "Training Loss: 2.043460 \tTraining Accuracy: 0.44\n",
            "Validation Loss: 2.007947 \tValidation Accuracy: 0.49\n",
            "Epoch: 7\n",
            "Training Loss: 2.005925 \tTraining Accuracy: 0.48\n",
            "Validation Loss: 1.961779 \tValidation Accuracy: 0.54\n",
            "Epoch: 8\n",
            "Training Loss: 1.954664 \tTraining Accuracy: 0.51\n",
            "Validation Loss: 1.915078 \tValidation Accuracy: 0.57\n",
            "Epoch: 9\n",
            "Training Loss: 1.908078 \tTraining Accuracy: 0.57\n",
            "Validation Loss: 1.877782 \tValidation Accuracy: 0.60\n",
            "Epoch: 10\n",
            "Training Loss: 1.859572 \tTraining Accuracy: 0.60\n",
            "Validation Loss: 1.838734 \tValidation Accuracy: 0.62\n"
          ]
        }
      ]
    },
    {
      "cell_type": "code",
      "source": [
        "plot_loss_accuracy(results['train_losses'], results['train_acc'], results['valid_losses'], results['valid_acc'])"
      ],
      "metadata": {
        "colab": {
          "base_uri": "https://localhost:8080/",
          "height": 377
        },
        "id": "hD3nhpLSYggH",
        "outputId": "e9fb4d10-2e38-45b2-ed9d-25e2bf03b9d3"
      },
      "execution_count": 63,
      "outputs": [
        {
          "output_type": "display_data",
          "data": {
            "image/png": "[encoded data removed]",
            "text/plain": [
              "<Figure size 1116x396 with 2 Axes>"
            ]
          },
          "metadata": {
            "needs_background": "light"
          }
        }
      ]
    },
    {
      "cell_type": "code",
      "source": [
        ""
      ],
      "metadata": {
        "id": "BG4CHuG3ZkGa"
      },
      "execution_count": null,
      "outputs": []
    }
  ]
}